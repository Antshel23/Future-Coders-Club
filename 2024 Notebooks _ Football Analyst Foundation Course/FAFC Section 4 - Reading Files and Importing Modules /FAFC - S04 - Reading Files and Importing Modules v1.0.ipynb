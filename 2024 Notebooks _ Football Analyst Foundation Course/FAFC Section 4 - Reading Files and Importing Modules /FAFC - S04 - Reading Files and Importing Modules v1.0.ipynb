{
 "cells": [
  {
   "cell_type": "markdown",
   "id": "dc965333",
   "metadata": {},
   "source": [
    "## Week 4: Reading Files and Importing Modules\n",
    "\n",
    "By the end of this week, you will be able to:\n",
    "- Read .txt, .json. and .csv files and use their contents\n",
    "- Use advanced string manipulations to extract relevant data\n",
    "- Import modules and work with dates"
   ]
  },
  {
   "cell_type": "markdown",
   "id": "4bfba996",
   "metadata": {},
   "source": [
    "#### Importing Modules\n",
    "- Using standard library modules like `math`, `datetime`\n",
    "- Examples of using packages imported from modules"
   ]
  },
  {
   "cell_type": "markdown",
   "id": "80ddf2a7",
   "metadata": {},
   "source": [
    "#### Datetime Operations"
   ]
  },
  {
   "cell_type": "markdown",
   "id": "e4cc6a46",
   "metadata": {},
   "source": [
    "#### TXT, JSON and CSV files\n",
    "- Reading and writing TXT, JSON and CSV files\n",
    "- Examples of basic CSV read and write functions for player statistics and match results"
   ]
  },
  {
   "cell_type": "markdown",
   "id": "73b13c69",
   "metadata": {},
   "source": [
    "#### Advanced String Manipulations\n",
    "- Accessing substrings to find specific player names or statistics\n",
    "- Concatenating strings to form full match summaries and other string manipulations\n",
    "- Using `.split()` and `str.join` functions to manipulate player and match data"
   ]
  },
  {
   "cell_type": "code",
   "execution_count": null,
   "id": "b12b2816",
   "metadata": {},
   "outputs": [],
   "source": [
    "# Reading a .txt file containing soccer match statistics and printing its content\n",
    "with open('soccer_stats.txt', 'r') as file:\n",
    "    content = file.read()\n",
    "    print(content)\n",
    "\n",
    "# Reading a .txt file line by line to extract soccer statistics\n",
    "with open('soccer_stats.txt', 'r') as file:\n",
    "    for line in file:\n",
    "        print(line.strip())\n",
    "\n",
    "# Writing to a .txt file with summary of soccer match\n",
    "with open('soccer_summary.txt', 'w') as file:\n",
    "    file.write('Final Score: Team A 2 - 1 Team B')"
   ]
  },
  {
   "cell_type": "code",
   "execution_count": null,
   "id": "fed9ae92",
   "metadata": {},
   "outputs": [],
   "source": [
    "import math\n",
    "import datetime\n",
    "from datetime import timedelta\n",
    "\n",
    "# Using math to calculate a player's goal per game ratio\n",
    "goals = 16\n",
    "games = 20\n",
    "goal_ratio = math.ceil(goals / games)\n",
    "print(goal_ratio)\n",
    "\n",
    "# Using datetime to find the next match date\n",
    "next_match = datetime.date(2023, 8, 9)\n",
    "print(f'Next match date is: {next_match}')"
   ]
  },
  {
   "cell_type": "code",
   "execution_count": null,
   "id": "16b04a6d",
   "metadata": {},
   "outputs": [],
   "source": [
    "currentDate = datetime.datetime.now()\n",
    "\n",
    "currentDate.date()\n",
    "\n",
    "currentDate.date() + timedelta(days=3)\n",
    "\n",
    "oldDate = datetime.datetime(2023, 9, 1, 12, 0, 0)\n",
    "\n",
    "(currentDate - oldDate) / timedelta(days=1)\n",
    "\n"
   ]
  },
  {
   "cell_type": "code",
   "execution_count": null,
   "id": "92493acb",
   "metadata": {},
   "outputs": [],
   "source": [
    "# Open the file in read mode ('r')\n",
    "with open(\"matchStream.txt\", \"r\") as fileValue:\n",
    "    # Read the entire file into a variable\n",
    "    content = fileValue.read()\n",
    "    print(\"Full content of the file:\")\n",
    "    print(content)\n",
    "\n",
    "    # Move the file cursor to the beginning of the file\n",
    "    fileValue.seek(0)\n",
    "\n",
    "    # Read the file line by line\n",
    "    print(\"\\nReading line by line:\")\n",
    "    for line in fileValue:\n",
    "        print(line.strip())\n"
   ]
  },
  {
   "cell_type": "code",
   "execution_count": null,
   "id": "295da13e",
   "metadata": {},
   "outputs": [],
   "source": [
    "line.split(',')"
   ]
  },
  {
   "cell_type": "code",
   "execution_count": null,
   "id": "ce56a40b",
   "metadata": {},
   "outputs": [],
   "source": [
    "# Build on your reading .json function above, make a new function that takes \n",
    "# in a file path name, and outputs the name of each player that has > 20 goals and < 3 \n",
    "# yellow cards\n",
    "# If there are none, print 'NO PLAYERS FOUND' at the end"
   ]
  },
  {
   "cell_type": "code",
   "execution_count": null,
   "id": "36c67ff6",
   "metadata": {},
   "outputs": [],
   "source": [
    "import math\n",
    "import datetime\n",
    "from datetime import timedelta\n",
    "\n",
    "# Using math to calculate a player's goal per game ratio\n",
    "goals = 16\n",
    "games = 20\n",
    "print(goals/games)\n",
    "goal_ratio = math.ceil(goals / games)\n",
    "print(goal_ratio)\n",
    "\n",
    "# # Using datetime to find the next match date\n",
    "# next_match = datetime.date(2023, 8, 9)\n",
    "# print(f'Next match date is: {next_match}')\n",
    "\n",
    "\n",
    "### Structure of modules and packages\n",
    "### MODULE A\n",
    "     # Within the module, we have:\n",
    "     # def functionX\n",
    "     # def functionY\n",
    "     # def functionZ\n",
    "# If we want to use functionZ for our program, we would say\n",
    "# from MODULEA import functionZ"
   ]
  },
  {
   "cell_type": "code",
   "execution_count": null,
   "id": "64852e43",
   "metadata": {},
   "outputs": [],
   "source": [
    "import math\n",
    "\n",
    "# Using math to calculate a player's goal per game ratio\n",
    "goals = 16\n",
    "games = 20\n",
    "print(goals/games)\n",
    "goal_ratio = math.ceil(goals / games)\n",
    "print(goal_ratio)\n",
    "\n",
    "# IS THE SAME AS:"
   ]
  },
  {
   "cell_type": "code",
   "execution_count": null,
   "id": "034f2658",
   "metadata": {},
   "outputs": [],
   "source": [
    "from math import ceil, sqrt\n",
    "\n",
    "# Using math to calculate a player's goal per game ratio\n",
    "goals = 16\n",
    "games = 20\n",
    "print(goals/games)\n",
    "goal_ratio = ceil(goals / games)\n",
    "print(goal_ratio)\n",
    "\n",
    "sqrt(0.25)"
   ]
  },
  {
   "cell_type": "code",
   "execution_count": null,
   "id": "778c9df7",
   "metadata": {},
   "outputs": [],
   "source": [
    "# We've thought about different data types and data structures\n",
    "# Data types: Float, int, string, boolean\n",
    "# Data Structures: Lists, dictionaries\n",
    "\n",
    "# Now... we have a \"date\" and \"datetime\" data types"
   ]
  },
  {
   "cell_type": "code",
   "execution_count": null,
   "id": "e6562134",
   "metadata": {},
   "outputs": [],
   "source": [
    "import datetime\n",
    "from datetime import timedelta\n",
    "\n",
    "# something.something_else --> the dot syntax here references a member/unit of the \"something\"\n",
    "\n",
    "# Using datetime to find the next match date\n",
    "next_match = datetime.date(2023, 8, 9)\n",
    "print(f'Next match date is: {next_match}')\n",
    "next_match"
   ]
  },
  {
   "cell_type": "code",
   "execution_count": null,
   "id": "27c4c958",
   "metadata": {},
   "outputs": [],
   "source": [
    "# Making a datetime object\n",
    "last_match_time = datetime.datetime(2023, 8, 9, 12, 15, 7)"
   ]
  },
  {
   "cell_type": "code",
   "execution_count": null,
   "id": "7bfb1f20",
   "metadata": {},
   "outputs": [],
   "source": [
    "print(last_match_time)\n",
    "last_match_time"
   ]
  },
  {
   "cell_type": "code",
   "execution_count": null,
   "id": "09cc941f",
   "metadata": {},
   "outputs": [],
   "source": [
    "print(f'Last match time is: {last_match_time}')"
   ]
  },
  {
   "cell_type": "code",
   "execution_count": null,
   "id": "79267aa9",
   "metadata": {},
   "outputs": [],
   "source": [
    "last_match_time.weekday()   # -> IS A WEDNESDAY\n",
    "# MON - 0\n",
    "# TUES - 1\n",
    "# WED - 2\n",
    "# THURS - 3\n",
    "# FRI - 4\n",
    "# SAT - 5\n",
    "# SUN - 6"
   ]
  },
  {
   "cell_type": "code",
   "execution_count": null,
   "id": "0fa1b601",
   "metadata": {},
   "outputs": [],
   "source": [
    "# Quick exercise\n",
    "# Define a new datetime variable and return its weekday\n",
    "# Return its hour (try to google to find)"
   ]
  },
  {
   "cell_type": "code",
   "execution_count": null,
   "id": "2a731f89",
   "metadata": {},
   "outputs": [],
   "source": [
    "newday = datetime.datetime(2024, 1, 21, 16, 38)\n",
    "print(newday)\n",
    "\n",
    "print(newday.weekday())\n",
    "print(newday.hour)"
   ]
  },
  {
   "cell_type": "code",
   "execution_count": null,
   "id": "c1642a21",
   "metadata": {},
   "outputs": [],
   "source": [
    "# datetime.datetime object\n",
    "#    hour\n",
    "#    minutes\n",
    "#    seconds\n",
    "#    year"
   ]
  },
  {
   "cell_type": "code",
   "execution_count": null,
   "id": "7e53af1f",
   "metadata": {},
   "outputs": [],
   "source": [
    "datetime.datetime.now()"
   ]
  },
  {
   "cell_type": "code",
   "execution_count": null,
   "id": "45dcd2b0",
   "metadata": {},
   "outputs": [],
   "source": [
    "# Big Class: datetime\n",
    "    # Smaller class within it: datetime\n",
    "        # Smaller class has a function \"now()\""
   ]
  },
  {
   "cell_type": "code",
   "execution_count": null,
   "id": "c666e88a",
   "metadata": {},
   "outputs": [],
   "source": [
    "from datetime import timedelta\n",
    "\n",
    "currentDate = datetime.datetime.now()\n",
    "\n",
    "currentDate\n",
    "\n",
    "print(currentDate.date())\n",
    "\n",
    "currentDate.date() + timedelta(days=3)\n",
    "\n",
    "oldDate = datetime.datetime(2023, 9, 1, 12, 0, 0)\n",
    "\n",
    "(currentDate - oldDate) / timedelta(days=1)\n",
    "\n"
   ]
  },
  {
   "cell_type": "code",
   "execution_count": null,
   "id": "6dc8b39e",
   "metadata": {},
   "outputs": [],
   "source": [
    "oldDate1 = datetime.datetime(2023, 9, 1, 12, 0, 0)\n",
    "oldDate2 = datetime.datetime(2023, 9, 1, 12, 32, 0)\n",
    "\n",
    "(oldDate2 - oldDate1) / timedelta(seconds=1)"
   ]
  },
  {
   "cell_type": "code",
   "execution_count": null,
   "id": "d1721994",
   "metadata": {},
   "outputs": [],
   "source": [
    "# Practice problems:\n",
    "\n",
    "# Specific Date and Time: Create a datetime object for January 1, 2025, at 15:45 hours, and print it out.\n",
    "\n",
    "# Weekday of a Date: Write a program to find out the weekday (e.g., Monday, Tuesday) of your next birthday.\n",
    "\n",
    "# Difference Between Two Dates: Calculate the number of days between January 1, 2020, and today.\n",
    "\n",
    "# Adding Days to a Date: Write a program that adds 100 days to the current date and displays the result.\n"
   ]
  },
  {
   "cell_type": "code",
   "execution_count": null,
   "id": "ab4f1f17",
   "metadata": {},
   "outputs": [],
   "source": [
    "# Open the file in read mode ('r')\n",
    "with open(\"matchStream.txt\", \"r\") as fileValue:\n",
    "    # Read the entire file into a variable\n",
    "#     content = fileValue.read()\n",
    "#     print(\"Full content of the file:\")\n",
    "#     print(content)\n",
    "\n",
    "#     # Move the file cursor to the beginning of the file\n",
    "#     fileValue.seek(0)\n",
    "\n",
    "    # Read the file line by line\n",
    "    print(\"\\nReading line by line:\")\n",
    "    for lineIdx, line in enumerate(fileValue):\n",
    "        print('Line Index: ', lineIdx)\n",
    "        print(line.strip())\n",
    "        print('\\n')\n",
    "        \n"
   ]
  },
  {
   "cell_type": "code",
   "execution_count": null,
   "id": "40b21c13",
   "metadata": {},
   "outputs": [],
   "source": [
    "line"
   ]
  },
  {
   "cell_type": "code",
   "execution_count": null,
   "id": "5f0fa1ff",
   "metadata": {},
   "outputs": [],
   "source": [
    "line.strip()"
   ]
  },
  {
   "cell_type": "code",
   "execution_count": null,
   "id": "1d92088d",
   "metadata": {},
   "outputs": [],
   "source": [
    "testStr = 'Man Utd\\n'\n",
    "testStr[:-1]"
   ]
  },
  {
   "cell_type": "code",
   "execution_count": null,
   "id": "205f586a",
   "metadata": {},
   "outputs": [],
   "source": [
    "cleanedLineOfData = line.strip().split(',')\n",
    "\n",
    "cleanedLineOfData[-1]\n"
   ]
  },
  {
   "cell_type": "code",
   "execution_count": null,
   "id": "59585224",
   "metadata": {},
   "outputs": [],
   "source": [
    "# Exercise\n",
    "# Make a dictionary where each key corresponds to a column in the above data\n",
    "# Loop through matchStream.txt and add data as you read it into your dictionary\n",
    "\n",
    "dataDict = {}\n",
    "# Action can be goal, pass, assist\n",
    "# Player name\n",
    "# Player team\n",
    "# Opp. team\n",
    "\n",
    "dataDict['action'] = []\n",
    "dataDict['player'] = []\n",
    "dataDict['playerTeam'] = []\n",
    "dataDict['oppTeam'] = []\n",
    "\n",
    "with open(\"matchStream.txt\", \"r\") as fileValue:\n",
    "    for lineIdx, line in enumerate(fileValue):\n",
    "        cleanedLineOfData = line.strip().split(',')\n",
    "        print(cleanedLineOfData)\n",
    "        \n",
    "        dataDict['action'].append(cleanedLineOfData[0])\n",
    "        dataDict['player'].append(cleanedLineOfData[1])\n",
    "        dataDict['playerTeam'].append(cleanedLineOfData[2])\n",
    "        dataDict['oppTeam'].append(cleanedLineOfData[3])"
   ]
  },
  {
   "cell_type": "code",
   "execution_count": null,
   "id": "77b886d9",
   "metadata": {},
   "outputs": [],
   "source": [
    "dataDict"
   ]
  },
  {
   "cell_type": "code",
   "execution_count": null,
   "id": "7fd60a58",
   "metadata": {},
   "outputs": [],
   "source": [
    "### JUST FUTURE MOTIVATION\n",
    "import pandas as pd\n",
    "dataa = pd.DataFrame(dataDict)\n",
    "dataa"
   ]
  },
  {
   "cell_type": "code",
   "execution_count": null,
   "id": "8f603b6e",
   "metadata": {},
   "outputs": [],
   "source": []
  },
  {
   "cell_type": "code",
   "execution_count": null,
   "id": "4f7e3a1d",
   "metadata": {},
   "outputs": [],
   "source": [
    "# Build on your reading player_stats.json function above, make a new function that takes \n",
    "# in a file path name, and outputs the name of each player that has > 20 goals and < 3 \n",
    "# yellow cards\n",
    "# If there are none, print 'NO PLAYERS FOUND' at the end\n",
    "\n",
    "### SOLUTION:\n",
    "import json\n",
    "\n",
    "def player_info(file):\n",
    "    with open(file, 'r') as f:\n",
    "        player_stats = json.load(f)\n",
    "        #print(player_stats)\n",
    "\n",
    "        players_list = []\n",
    "        for info in player_stats:\n",
    "#             print('This is one line of info:')\n",
    "#             print(info)\n",
    "#             print('\\n')\n",
    "            if (info[\"goals\"] > 20) & (info[\"yellow_cards\"] < 3):\n",
    "                players_list.append(info[\"name\"])\n",
    "                #print(players_list)\n",
    "#                 print(f'The following player has more than 20 goals but less than 3 yellow cards:{players_list}')\n",
    "                print(f'The following player has more than 20 goals but less than 3 yellow cards:{info[\"name\"]}')\n",
    "        print('All good players:')\n",
    "        print(players_list)"
   ]
  },
  {
   "cell_type": "code",
   "execution_count": null,
   "id": "580a8de1",
   "metadata": {},
   "outputs": [],
   "source": [
    "player_info('player_stats.json')"
   ]
  },
  {
   "cell_type": "code",
   "execution_count": null,
   "id": "98d71462",
   "metadata": {},
   "outputs": [],
   "source": [
    "with open('player_stats.json', 'r') as f:\n",
    "    player_stats = json.load(f)"
   ]
  },
  {
   "cell_type": "code",
   "execution_count": null,
   "id": "78bbc272",
   "metadata": {},
   "outputs": [],
   "source": [
    "player_stats # --> LIST OF DICTIONARIES"
   ]
  },
  {
   "cell_type": "code",
   "execution_count": null,
   "id": "35316456",
   "metadata": {},
   "outputs": [],
   "source": [
    "# List of rows [{First Row of Data}, \n",
    "#               {Second Row of Data}, \n",
    "#               {Third Row of Data} ...]"
   ]
  },
  {
   "cell_type": "code",
   "execution_count": null,
   "id": "4395fb6f",
   "metadata": {},
   "outputs": [],
   "source": [
    "# HOMEWORK UPDATED FOR 21/1/24\n",
    "\n",
    "# Build on your reading player_stats.json function above, make a new function that takes \n",
    "# in a file path name, and outputs the name of each player that has > 20 goals and < 3 \n",
    "# yellow cards\n",
    "# If there are none, print 'NO PLAYERS FOUND' at the end\n",
    "\n",
    "# Read in match_results.json, containing data on teams, scores, and date of match\n",
    "# You have two tasks: Return the number of games played on 2024-03-06 as well as the average goal differential\n",
    "# Report the number of games Manchester United has won, and their most recent win\n",
    "# You must also report the top 3 teams with the highest win rate\n",
    "\n",
    "# Read in football_players.csv and report on statistics of the data available\n",
    "# Give the average number of goals scored and average number of assists per position (Forward, Midfielder, etc)\n",
    "# Which team has the highest average number of goals scored?\n",
    "# (OPTIONAL): Is there a relationship between the number of goals scored per player and the number of assists? How could you test this?\n",
    "\n",
    "\n",
    "# Age Calculator: Write a program that calculates your age in years, months, and days, given your birthdate. (Make a function!)\n",
    "\n",
    "# Time Difference in Seconds: Calculate the difference in seconds between two datetime objects: datetime(2024, 1, 1, 0, 0) and datetime(2024, 1, 2, 1, 30).\n",
    "\n",
    "# Last Day of the Month: Write a program to find the last day of the month for any given month and year (e.g., for February 2023)."
   ]
  },
  {
   "cell_type": "code",
   "execution_count": null,
   "id": "325a212c",
   "metadata": {},
   "outputs": [],
   "source": [
    "lmt = datetime.datetime(2023, 8, 9, 12, 15, 7)"
   ]
  },
  {
   "cell_type": "code",
   "execution_count": null,
   "id": "5b2ff282",
   "metadata": {},
   "outputs": [],
   "source": [
    "import json\n",
    "import csv\n",
    "\n",
    "# Reading a JSON file containing player statistics\n",
    "with open('player_stats.json', 'r') as f:\n",
    "    player_stats = json.load(f)\n",
    "    print(player_stats)"
   ]
  },
  {
   "cell_type": "code",
   "execution_count": null,
   "id": "4d8da410",
   "metadata": {},
   "outputs": [],
   "source": [
    "player_stats"
   ]
  },
  {
   "cell_type": "code",
   "execution_count": null,
   "id": "6726ecc2",
   "metadata": {},
   "outputs": [],
   "source": [
    "# Writing to a JSON file for a new player's statistics\n",
    "with open('new_player.json', 'w') as f:\n",
    "    json.dump({'player_name': 'John', 'goals': 5, 'assists': 7}, f)"
   ]
  },
  {
   "cell_type": "code",
   "execution_count": null,
   "id": "aabc4ed5",
   "metadata": {},
   "outputs": [],
   "source": [
    "# How do we read our new_player.json?"
   ]
  },
  {
   "cell_type": "code",
   "execution_count": null,
   "id": "db4264f8",
   "metadata": {},
   "outputs": [],
   "source": [
    "# Reading a CSV file containing match results\n",
    "with open('match_results.csv', 'r') as file:\n",
    "    csv_reader = csv.reader(file)\n",
    "    for row in csv_reader:\n",
    "        print(row)\n",
    "\n",
    "# Writing to a CSV file to summarize recent match results\n",
    "with open('recent_matches.csv', 'w', newline='') as file:\n",
    "    csv_writer = csv.writer(file)\n",
    "    csv_writer.writerow(['Date', 'Team A', 'Team B', 'Team A Score', 'Team B Score'])\n",
    "    csv_writer.writerow(['2023-08-09', 'Leeds United', 'Newcastle United', '2', '3'])"
   ]
  },
  {
   "cell_type": "code",
   "execution_count": null,
   "id": "302c7a9b",
   "metadata": {},
   "outputs": [],
   "source": [
    "row"
   ]
  },
  {
   "cell_type": "code",
   "execution_count": null,
   "id": "5fb29b3e",
   "metadata": {},
   "outputs": [],
   "source": [
    "# Make a function to read a .csv file \n",
    "# The input is the file path name, the output is printing out each row of the .csv\n",
    "# At the end, return the string \"success\""
   ]
  },
  {
   "cell_type": "code",
   "execution_count": null,
   "id": "e72ac53a",
   "metadata": {},
   "outputs": [],
   "source": [
    "# Accessing substrings to find specific player names\n",
    "match_summary = 'John scored 2 goals'\n",
    "player_name = match_summary[0:4]\n",
    "print(f'Player name extracted: {player_name}')\n",
    "\n",
    "# Using .split() function to break down match stats\n",
    "stats = 'Goals:5, Assists:3, Cards:1'\n",
    "stats_list = stats.split(', ')\n",
    "print(f'Stats list: {stats_list}')\n",
    "\n",
    "# Using str.join function to concatenate match summary\n",
    "words = ['Final', 'Score:', '3-1']\n",
    "summary = ' '.join(words)\n",
    "print(f'Match Summary: {summary}')\n",
    "\n",
    "# Using str.find function to locate a keyword in match summary\n",
    "position = match_summary.find('scored')\n",
    "print(f'Keyword position: {position}')"
   ]
  },
  {
   "cell_type": "code",
   "execution_count": null,
   "id": "531ee9f8",
   "metadata": {},
   "outputs": [],
   "source": [
    "# you are given a list of team names and a target team name\n",
    "# return the index of the list that matches the target team name\n",
    "\n",
    "# Example: Input: listTeamNames = ['Liverpool', 'Arsenal', 'Tottenham', 'Manchester City', 'Newcastle']; targetTeamName = 'Arsenal'\n",
    "#            Output: 1\n",
    "\n",
    "# Example: Input: listTeamNames = ['Liverpool', 'Arsenal', 'Tottenham', 'Manchester City', 'Newcastle']; targetTeamName = 'Newcastle'\n",
    "#            Output: 4"
   ]
  }
 ],
 "metadata": {},
 "nbformat": 4,
 "nbformat_minor": 5
}
