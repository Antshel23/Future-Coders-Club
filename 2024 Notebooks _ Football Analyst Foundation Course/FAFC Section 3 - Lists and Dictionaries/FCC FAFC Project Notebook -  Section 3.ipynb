{
 "cells": [
  {
   "cell_type": "markdown",
   "metadata": {},
   "source": [
    "# Mini-Project: Football Player Statistics Manager\n",
    "\n",
    "## Project Description\n",
    "\n",
    "In this mini-project, you will build a Python function that manages a list of football players and their statistics. The statistics for each player will include the number of goals scored, the number of assists, and the number of matches played. You will create a function that can perform the following operations:\n",
    "\n",
    "1. **Add a new player**: Add a new player and their statistics.\n",
    "2. **Update statistics**: Update any of the statistics for an existing player.\n",
    "3. **Remove a player**: Remove a player from the list.\n",
    "\n",
    "The data will be stored in a nested dictionary, where the outer dictionary will hold the player names as keys and the inner dictionaries will hold the statistics for each player."
   ]
  },
  {
   "cell_type": "markdown",
   "metadata": {},
   "source": [
    "1. **Add a new player**:\n",
    "- Adds a new player entry to the dictionary\n",
    "2. **Update statistics**: Update any of the statistics for an existing player.\n",
    "- Updates any of the arguments provided for the given player\n",
    "- If one of the arguments is not provided, that will be not changed\n",
    "3. **Remove a player**: Remove a player from the list.\n",
    "- Removes player entry from list\n"
   ]
  },
  {
   "cell_type": "markdown",
   "metadata": {},
   "source": [
    "## Function Signature\n",
    "\n",
    "```python\n",
    "def manage_player_stats(action: str, player_name: str = \"\", goals: int = 0, assists: int = 0, matches: int = 0):\n",
    "    pass\n",
    "```"
   ]
  },
  {
   "cell_type": "markdown",
   "metadata": {},
   "source": [
    "### Parameters\n",
    "\n",
    "- `action`: The operation to be performed (\"add\", \"update\", \"remove\").\n",
    "- `player_name`: The name of the player (default is an empty string).\n",
    "- `goals`: The number of goals scored by the player (default is 0).\n",
    "- `assists`: The number of assists by the player (default is 0).\n",
    "- `matches`: The number of matches played by the player (default is 0)."
   ]
  },
  {
   "cell_type": "markdown",
   "metadata": {},
   "source": [
    "### Example Inputs and Outputs\n",
    "\n",
    "#### Test Case 1: Simple Input (Adding a new player)\n",
    "\n",
    "```python\n",
    "# Input\n",
    "manage_player_stats(\"add\", \"Messi\", 55, 20, 40)\n",
    "\n",
    "# Output (nested dictionary)\n",
    "{\n",
    "    \"Messi\": {\"goals\": 55, \"assists\": 20, \"matches\": 40}\n",
    "}\n",
    "```\n",
    "\n",
    "#### Test Case 2: Simple Input (Removing a player)\n",
    "\n",
    "```python\n",
    "# Input\n",
    "manage_player_stats(\"remove\", \"Messi\")\n",
    "\n",
    "# Output (nested dictionary)\n",
    "{}\n",
    "```\n",
    "\n",
    "#### Test Case 3: Long Input (Adding multiple players)\n",
    "\n",
    "```python\n",
    "# Input\n",
    "manage_player_stats(\"add\", \"Messi\", 55, 20, 40)\n",
    "manage_player_stats(\"add\", \"Ronaldo\", 50, 18, 42)\n",
    "manage_player_stats(\"add\", \"Mbappe\", 40, 15, 38)\n",
    "\n",
    "# Output (nested dictionary)\n",
    "{\n",
    "    \"Messi\": {\"goals\": 55, \"assists\": 20, \"matches\": 40},\n",
    "    \"Ronaldo\": {\"goals\": 50, \"assists\": 18, \"matches\": 42},\n",
    "    \"Mbappe\": {\"goals\": 40, \"assists\": 15, \"matches\": 38}\n",
    "}\n",
    "```\n",
    "\n",
    "#### Test Case 4: Long Input (Updating a player and removing another)\n",
    "\n",
    "```python\n",
    "# Input\n",
    "manage_player_stats(\"update\", \"Messi\", 56, 21, 41)\n",
    "manage_player_stats(\"remove\", \"Mbappe\")\n",
    "\n",
    "# Output (nested dictionary)\n",
    "{\n",
    "    \"Messi\": {\"goals\": 56, \"assists\": 21, \"matches\": 41},\n",
    "    \"Ronaldo\": {\"goals\": 50, \"assists\": 18, \"matches\": 42}\n",
    "}\n",
    "```"
   ]
  },
  {
   "cell_type": "markdown",
   "metadata": {},
   "source": [
    "**Note**: Your function should handle error cases gracefully, such as attempting to remove or update a player who does not exist in the list.\n",
    "\n",
    "This project will help you get familiar with the intricacies of handling nested data structures and give you a good practice on managing complex data types."
   ]
  }
 ],
 "metadata": {
  "kernelspec": {
   "display_name": "Python 3",
   "language": "python",
   "name": "python3"
  },
  "language_info": {
   "codemirror_mode": {
    "name": "ipython",
    "version": 3
   },
   "file_extension": ".py",
   "mimetype": "text/x-python",
   "name": "python",
   "nbconvert_exporter": "python",
   "pygments_lexer": "ipython3",
   "version": "3.8.5"
  }
 },
 "nbformat": 4,
 "nbformat_minor": 4
}
