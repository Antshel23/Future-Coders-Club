{
 "cells": [
  {
   "cell_type": "markdown",
   "metadata": {},
   "source": [
    "## Section 3: Data Structures in Python\n",
    "\n",
    "By the end of this section, you will be able to:\n",
    "- Use lists and dictionaries to store and organize data\n",
    "- Use more complicated nested data structures to solve Python problems"
   ]
  },
  {
   "cell_type": "markdown",
   "metadata": {},
   "source": [
    "#### Accessing Elements in Dictionaries"
   ]
  },
  {
   "cell_type": "code",
   "execution_count": 1,
   "metadata": {},
   "outputs": [
    {
     "name": "stdout",
     "output_type": "stream",
     "text": [
      "Messi's goals: 50\n"
     ]
    }
   ],
   "source": [
    "# Let's consider a dictionary of player statistics.\n",
    "player_stats = {\n",
    "    \"Messi\": {\"goals\": 50, \"assists\": 20},\n",
    "    \"Ronaldo\": {\"goals\": 45, \"assists\": 15},\n",
    "    \"Mbappe\": {\"goals\": 40, \"assists\": 18}\n",
    "}\n",
    "\n",
    "# To access Messi's goals:\n",
    "messi_goals = player_stats[\"Messi\"][\"goals\"]\n",
    "print(f\"Messi's goals: {messi_goals}\")  # Output: Messi's goals: 50\n"
   ]
  },
  {
   "cell_type": "code",
   "execution_count": null,
   "metadata": {},
   "outputs": [],
   "source": [
    "# Dictionary is a selection of key and value pairs\n",
    "# In a dictionary, we don't index by position... we index by KEY"
   ]
  },
  {
   "cell_type": "code",
   "execution_count": 3,
   "metadata": {},
   "outputs": [],
   "source": [
    "map_team_location = {'London': ['Hotspur'],\n",
    "    'Barcelona': ['FC Barcelona'], 'Manchester': ['ManU', 'ManCity'],\n",
    "                     'Madrid': ['Real Madrid', 'Atletico Madrid']}"
   ]
  },
  {
   "cell_type": "code",
   "execution_count": 14,
   "metadata": {},
   "outputs": [
    {
     "data": {
      "text/plain": [
       "'Manchester'"
      ]
     },
     "execution_count": 14,
     "metadata": {},
     "output_type": "execute_result"
    }
   ],
   "source": [
    "list(map_team_location.keys())[2]"
   ]
  },
  {
   "cell_type": "code",
   "execution_count": 16,
   "metadata": {},
   "outputs": [
    {
     "data": {
      "text/plain": [
       "['ManU', 'ManCity']"
      ]
     },
     "execution_count": 16,
     "metadata": {},
     "output_type": "execute_result"
    }
   ],
   "source": [
    "map_team_location['Manchester']"
   ]
  },
  {
   "cell_type": "code",
   "execution_count": 17,
   "metadata": {},
   "outputs": [
    {
     "name": "stdout",
     "output_type": "stream",
     "text": [
      "['Hotspur']\n",
      "['FC Barcelona']\n",
      "['ManU', 'ManCity']\n",
      "['Real Madrid', 'Atletico Madrid']\n"
     ]
    }
   ],
   "source": [
    "for location in map_team_location.keys():\n",
    "    print(map_team_location[location])"
   ]
  },
  {
   "cell_type": "code",
   "execution_count": 12,
   "metadata": {},
   "outputs": [
    {
     "data": {
      "text/plain": [
       "dict_keys(['London', 'Barcelona', 'Manchester', 'Madrid'])"
      ]
     },
     "execution_count": 12,
     "metadata": {},
     "output_type": "execute_result"
    }
   ],
   "source": [
    "map_team_location.keys()"
   ]
  },
  {
   "cell_type": "code",
   "execution_count": 54,
   "metadata": {},
   "outputs": [
    {
     "data": {
      "text/plain": [
       "{'Real Madrid': [],\n",
       " 'Barcelona': [],\n",
       " 'Atletico Madrid': [],\n",
       " 'Sevilla': [],\n",
       " 'Valencia': [],\n",
       " 'Real Sociedad': [],\n",
       " 'Villarreal': []}"
      ]
     },
     "execution_count": 54,
     "metadata": {},
     "output_type": "execute_result"
    }
   ],
   "source": [
    "\n",
    "team_matchup_stats = {}\n",
    "listPossibleTeamsToPlay = ['Barcelona', 'Real Madrid', 'Athletico Madrid', 'Sevilla']\n",
    "\n",
    "\n",
    "### Team matchup stats is a dictionary that contains lists of lists\n",
    "### For each team, the value is a list of lists, where each inner list is in the following format:\n",
    "### [teamTheyPlayed, whoWon]\n",
    "\n",
    "for possibleTeam in listPossibleTeamsToPlay:\n",
    "    team_matchup_stats[possibleTeam] = []\n",
    "\n",
    "team_matchup_stats"
   ]
  },
  {
   "cell_type": "code",
   "execution_count": 20,
   "metadata": {},
   "outputs": [],
   "source": [
    "## For instance, if Barcelona played Real Madrid and won, dictionary would look like this:\n",
    "{'Real Madrid': [['Barcelona', 'Barcelona']],\n",
    " 'Barcelona': [['Real Madrid', 'Barcelona']],\n",
    " 'Atletico Madrid': [],\n",
    " 'Sevilla': [],\n",
    " 'Valencia': [],\n",
    " 'Real Sociedad': [],\n",
    " 'Villarreal': []}"
   ]
  },
  {
   "cell_type": "code",
   "execution_count": 42,
   "metadata": {},
   "outputs": [],
   "source": [
    "gamesMatchup = [['Barcelona', 'Real Madrid', 'Barcelona'],['Athletico Madrid', 'Real Madrid', 'Real Madrid'],\n",
    "['Sevilla', 'Barcelona', 'Sevilla'],['Barcelona', 'Athletico Madrid', 'Barcelona'], ['Athletico Madrid', 'Sevilla', 'Sevilla'],\n",
    "['Real Madrid', 'Sevilla', 'Real Madrid']]"
   ]
  },
  {
   "cell_type": "code",
   "execution_count": 43,
   "metadata": {},
   "outputs": [],
   "source": [
    "for gameResult in gamesMatchup:\n",
    "    # We need an entry for each team that plays\n",
    "    # So for each game result, we make two additions to the team_matchup_stats\n",
    "    \n",
    "    teamToAdd = gameResult[0]\n",
    "    entry = [gameResult[1], gameResult[2]]\n",
    "    team_matchup_stats[teamToAdd].append(entry)\n",
    "\n",
    "#     print(teamToAdd)\n",
    "#     print(entry)\n",
    "    \n",
    "    teamToAdd = gameResult[1]\n",
    "    entry = [gameResult[0], gameResult[2]]\n",
    "    team_matchup_stats[teamToAdd].append(entry)\n",
    "    \n",
    "    \n",
    "#     print(teamToAdd)\n",
    "#     print(entry)"
   ]
  },
  {
   "cell_type": "code",
   "execution_count": 44,
   "metadata": {},
   "outputs": [
    {
     "data": {
      "text/plain": [
       "{'Barcelona': [['Real Madrid', 'Barcelona'],\n",
       "  ['Sevilla', 'Sevilla'],\n",
       "  ['Athletico Madrid', 'Barcelona']],\n",
       " 'Real Madrid': [['Barcelona', 'Barcelona'],\n",
       "  ['Athletico Madrid', 'Real Madrid'],\n",
       "  ['Sevilla', 'Real Madrid']],\n",
       " 'Athletico Madrid': [['Real Madrid', 'Real Madrid'],\n",
       "  ['Barcelona', 'Barcelona'],\n",
       "  ['Sevilla', 'Sevilla']],\n",
       " 'Sevilla': [['Barcelona', 'Sevilla'],\n",
       "  ['Athletico Madrid', 'Sevilla'],\n",
       "  ['Real Madrid', 'Real Madrid']]}"
      ]
     },
     "execution_count": 44,
     "metadata": {},
     "output_type": "execute_result"
    }
   ],
   "source": [
    "team_matchup_stats"
   ]
  },
  {
   "cell_type": "code",
   "execution_count": 46,
   "metadata": {},
   "outputs": [
    {
     "data": {
      "text/plain": [
       "[['Barcelona', 'Barcelona'],\n",
       " ['Athletico Madrid', 'Real Madrid'],\n",
       " ['Sevilla', 'Real Madrid']]"
      ]
     },
     "execution_count": 46,
     "metadata": {},
     "output_type": "execute_result"
    }
   ],
   "source": [
    "team_matchup_stats['Real Madrid']"
   ]
  },
  {
   "cell_type": "code",
   "execution_count": 25,
   "metadata": {},
   "outputs": [],
   "source": [
    "firstGame = gamesMatchup[0]"
   ]
  },
  {
   "cell_type": "code",
   "execution_count": 31,
   "metadata": {},
   "outputs": [
    {
     "name": "stdout",
     "output_type": "stream",
     "text": [
      "Update playing entries for:\n",
      "Barcelona\n",
      "Real Madrid\n"
     ]
    }
   ],
   "source": [
    "firstGame\n",
    "print('Update playing entries for:')\n",
    "print(firstGame[0])\n",
    "print(firstGame[1])"
   ]
  },
  {
   "cell_type": "code",
   "execution_count": 36,
   "metadata": {},
   "outputs": [
    {
     "data": {
      "text/plain": [
       "{'Barcelona': [['Real Madrid', 'Barcelona']],\n",
       " 'Real Madrid': [],\n",
       " 'Athletico Madrid': [],\n",
       " 'Sevilla': []}"
      ]
     },
     "execution_count": 36,
     "metadata": {},
     "output_type": "execute_result"
    }
   ],
   "source": [
    "# team_matchup_stats\n",
    "# Structure for each entry is\n",
    "# [team they played, team who won]\n",
    "\n",
    "\n",
    "# For firstTeam (firstGame[0])\n",
    "entry = [firstGame[1], firstGame[2]]\n",
    "team_matchup_stats[firstGame[0]].append(entry)\n",
    "team_matchup_stats"
   ]
  },
  {
   "cell_type": "code",
   "execution_count": 24,
   "metadata": {},
   "outputs": [
    {
     "data": {
      "text/plain": [
       "['Athletico Madrid', 'Real Madrid', 'Real Madrid']"
      ]
     },
     "execution_count": 24,
     "metadata": {},
     "output_type": "execute_result"
    }
   ],
   "source": [
    "## Can we loop through gamesMatchup, and use it to build a \"database\" of team_matchups and results in team_matchup_stats?\n",
    "\n"
   ]
  },
  {
   "cell_type": "code",
   "execution_count": 21,
   "metadata": {},
   "outputs": [
    {
     "data": {
      "text/plain": [
       "{'Barcelona': [['Real Madrid', 'Barcelona']],\n",
       " 'Real Madrid': [],\n",
       " 'Athletico Madrid': [],\n",
       " 'Sevilla': []}"
      ]
     },
     "execution_count": 21,
     "metadata": {},
     "output_type": "execute_result"
    }
   ],
   "source": [
    "team_matchup_stats"
   ]
  },
  {
   "cell_type": "markdown",
   "metadata": {},
   "source": [
    "# Homework from 10.12.2023\n",
    "\n",
    "##### Your assignment is to find each team's win rate through the course of all of the sample matches played\n",
    "##### You will need to loop through the matchData and calculate the win rate by keeping track of which team has won its games\n",
    "##### Hint: There is a lot of data, try working with a couple smaller example subsets to see what the expected behavior should be\n",
    "\n",
    "##### Bonus Extensions: Let's say you want to analyze how certain teams compare in match ups with other teams\n",
    "##### Can you structure your code and write a function to find the win rate of team A based on only the matches played against \n",
    "##### teams [B, C, D]?\n",
    "##### For example, your function findTeamSpecificWinRate would take in inputs: team='Real Madrid' and matchupTeams=['Barcelona', 'Valencia', 'Villarreal'], and it would calculate the number of games that Real Madrid won against all of those teams / the total number of games it played against *only* those teams"
   ]
  },
  {
   "cell_type": "code",
   "execution_count": 55,
   "metadata": {},
   "outputs": [
    {
     "data": {
      "text/plain": [
       "{'Real Madrid': [],\n",
       " 'Barcelona': [],\n",
       " 'Atletico Madrid': [],\n",
       " 'Sevilla': [],\n",
       " 'Valencia': [],\n",
       " 'Real Sociedad': [],\n",
       " 'Villarreal': []}"
      ]
     },
     "execution_count": 55,
     "metadata": {},
     "output_type": "execute_result"
    }
   ],
   "source": [
    "team_matchup_stats = {}\n",
    "listPossibleTeamsToPlay = [\n",
    "    \"Real Madrid\",\n",
    "    \"Barcelona\",\n",
    "    \"Atletico Madrid\",\n",
    "    \"Sevilla\",\n",
    "    \"Valencia\",\n",
    "    \"Real Sociedad\",\n",
    "    \"Villarreal\"\n",
    "]\n",
    "\n",
    "### Team matchup stats is a dictionary that contains lists of lists\n",
    "### For each team, the value is a list of lists, where each inner list is in the following format:\n",
    "### [teamTheyPlayed, whoWon]\n",
    "\n",
    "for possibleTeam in listPossibleTeamsToPlay:\n",
    "    team_matchup_stats[possibleTeam] = []\n",
    "\n",
    "team_matchup_stats"
   ]
  },
  {
   "cell_type": "code",
   "execution_count": 56,
   "metadata": {},
   "outputs": [],
   "source": [
    "matchData = [['Real Sociedad', 'Valencia', 'Real Sociedad'], ['Real Madrid', 'Valencia', 'Real Madrid'], ['Sevilla', 'Real Madrid', 'Sevilla'],\n",
    " ['Barcelona', 'Sevilla', 'Sevilla'], ['Real Madrid', 'Villarreal', 'Real Madrid'], ['Valencia', 'Barcelona', 'Barcelona'],\n",
    " ['Villarreal', 'Valencia', 'Valencia'], ['Valencia', 'Atletico Madrid', 'Valencia'], ['Real Madrid', 'Sevilla', 'Sevilla'],\n",
    " ['Real Sociedad', 'Villarreal', 'Villarreal'], ['Real Madrid', 'Barcelona', 'Real Madrid'], ['Barcelona', 'Sevilla', 'Barcelona'],\n",
    " ['Real Sociedad', 'Atletico Madrid', 'Real Sociedad'], ['Real Sociedad', 'Villarreal', 'Real Sociedad'], ['Barcelona', 'Atletico Madrid', 'Barcelona'],\n",
    " ['Real Sociedad', 'Real Madrid', 'Real Madrid'], ['Barcelona', 'Villarreal', 'Barcelona'], ['Real Madrid', 'Atletico Madrid', 'Atletico Madrid'],\n",
    " ['Real Sociedad', 'Sevilla', 'Sevilla'], ['Sevilla', 'Real Sociedad', 'Real Sociedad'], ['Atletico Madrid', 'Villarreal', 'Atletico Madrid'],\n",
    " ['Real Madrid', 'Villarreal', 'Real Madrid'], ['Barcelona', 'Villarreal', 'Barcelona'], ['Atletico Madrid', 'Villarreal', 'Villarreal'],\n",
    " ['Villarreal', 'Sevilla', 'Sevilla'], ['Atletico Madrid', 'Valencia', 'Valencia'], ['Atletico Madrid', 'Real Sociedad', 'Atletico Madrid'],\n",
    " ['Valencia', 'Real Madrid', 'Real Madrid'], ['Real Sociedad', 'Real Madrid', 'Real Madrid'], ['Real Madrid', 'Atletico Madrid', 'Atletico Madrid']]"
   ]
  },
  {
   "cell_type": "code",
   "execution_count": null,
   "metadata": {},
   "outputs": [],
   "source": [
    "#### Your code here"
   ]
  }
 ],
 "metadata": {
  "kernelspec": {
   "display_name": "Python 3 (ipykernel)",
   "language": "python",
   "name": "python3"
  },
  "language_info": {
   "codemirror_mode": {
    "name": "ipython",
    "version": 3
   },
   "file_extension": ".py",
   "mimetype": "text/x-python",
   "name": "python",
   "nbconvert_exporter": "python",
   "pygments_lexer": "ipython3",
   "version": "3.11.5"
  }
 },
 "nbformat": 4,
 "nbformat_minor": 4
}
