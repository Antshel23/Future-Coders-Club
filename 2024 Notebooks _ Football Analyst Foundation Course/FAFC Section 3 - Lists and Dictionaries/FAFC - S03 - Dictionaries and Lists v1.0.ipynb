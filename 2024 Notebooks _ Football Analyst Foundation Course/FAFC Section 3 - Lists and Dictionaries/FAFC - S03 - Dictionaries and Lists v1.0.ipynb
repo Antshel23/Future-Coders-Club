{
 "cells": [
  {
   "cell_type": "markdown",
   "metadata": {},
   "source": [
    "## Week 3: Data Structures in Python\n",
    "\n",
    "By the end of this week, you will be able to:\n",
    "- Use lists and dictionaries to store and organize data\n",
    "- Use more complicated nested data structures to solve Python problems"
   ]
  },
  {
   "cell_type": "markdown",
   "metadata": {},
   "source": [
    "## Lists and Dictionaries"
   ]
  },
  {
   "cell_type": "markdown",
   "metadata": {},
   "source": [
    "### Creation, indexing, and manipulation\n",
    "\n",
    "Lists and dictionaries are among the most frequently used data structures in Python."
   ]
  },
  {
   "cell_type": "code",
   "execution_count": 1,
   "metadata": {},
   "outputs": [],
   "source": [
    "# Creating lists\n",
    "list1 = [1, 2, 3]\n",
    "list2 = ['a', 'b', 'c']\n",
    "list3 = [1, 'a', 2.5]\n",
    "list4 = [\"Messi\", \"Ronaldo\", \"Mbappe\", \"Haaland\", \"Lewandowski\"]\n",
    "\n",
    "\n",
    "# Creating dictionaries\n",
    "dict1 = {'key1': 'value1', 'key2': 'value2'}\n",
    "dict2 = {1: 'apple', 2: 'banana'}\n",
    "dict3 = {'name': 'John', 'age': 30}\n",
    "dict4 = {'Messi': 30, 'Ronaldo': 20, 'Mbappe': 10}\n",
    "\n",
    "# What is another dictionary we could make?"
   ]
  },
  {
   "cell_type": "markdown",
   "metadata": {},
   "source": [
    "#### Accessing Elements in Lists"
   ]
  },
  {
   "cell_type": "code",
   "execution_count": 2,
   "metadata": {},
   "outputs": [
    {
     "name": "stdout",
     "output_type": "stream",
     "text": [
      "The top goal scorer is Messi.\n"
     ]
    }
   ],
   "source": [
    "# Let's consider a list of top goal scorers for a season.\n",
    "top_goal_scorers = [\"Messi\", \"Ronaldo\", \"Mbappe\", \"Haaland\", \"Lewandowski\"]\n",
    "\n",
    "# To access the first goal scorer:\n",
    "first_scorer = top_goal_scorers[0]\n",
    "print(f\"The top goal scorer is {first_scorer}.\")  # Output: The top goal scorer is Messi.\n",
    "\n",
    "# How would we access the second scorer?\n"
   ]
  },
  {
   "cell_type": "code",
   "execution_count": 3,
   "metadata": {},
   "outputs": [
    {
     "name": "stdout",
     "output_type": "stream",
     "text": [
      "The last top goal scorer is Lewandowski.\n"
     ]
    }
   ],
   "source": [
    "# To access the last goal scorer:\n",
    "last_scorer = top_goal_scorers[-1]\n",
    "print(f\"The last top goal scorer is {last_scorer}.\")  # Output: The fifth top goal scorer is Lewandowski.\n",
    "\n",
    "# How would we access the third top goal scorer?"
   ]
  },
  {
   "cell_type": "markdown",
   "metadata": {},
   "source": [
    "#### Modifying Elements in Lists"
   ]
  },
  {
   "cell_type": "code",
   "execution_count": 4,
   "metadata": {},
   "outputs": [
    {
     "name": "stdout",
     "output_type": "stream",
     "text": [
      "['Messi', 'Ronaldo', 'Haaland', 'Mbappe', 'Lewandowski']\n"
     ]
    }
   ],
   "source": [
    "# Suppose Haaland overtakes Mbappe in the goal-scoring chart.\n",
    "top_goal_scorers[2] = \"Haaland\"\n",
    "top_goal_scorers[3] = \"Mbappe\"\n",
    "\n",
    "# Now the list looks like:\n",
    "print(top_goal_scorers)  # Output: ['Messi', 'Ronaldo', 'Haaland', 'Mbappe', 'Lewandowski']\n"
   ]
  },
  {
   "cell_type": "markdown",
   "metadata": {},
   "source": [
    "#### Appending and Deleting Elements in Lists"
   ]
  },
  {
   "cell_type": "code",
   "execution_count": 5,
   "metadata": {},
   "outputs": [
    {
     "data": {
      "text/plain": [
       "['Messi', 'Ronaldo', 'Haaland', 'Mbappe', 'Lewandowski', 'Neymar', 'Kane']"
      ]
     },
     "execution_count": 5,
     "metadata": {},
     "output_type": "execute_result"
    }
   ],
   "source": [
    "# Appending a new player\n",
    "top_goal_scorers.append(\"Neymar\")\n",
    "\n",
    "top_goal_scorers\n",
    "\n",
    "top_goal_scorers.append(\"Kane\")\n",
    "\n",
    "top_goal_scorers\n",
    "\n",
    "# Deleting the last player\n",
    "# del top_goal_scorers[-1]\n"
   ]
  },
  {
   "cell_type": "markdown",
   "metadata": {},
   "source": [
    "#### Using Lists and Loops"
   ]
  },
  {
   "cell_type": "code",
   "execution_count": 6,
   "metadata": {},
   "outputs": [
    {
     "name": "stdout",
     "output_type": "stream",
     "text": [
      "Player is: Messi\n",
      "Player is: Ronaldo\n",
      "Player is: Haaland\n",
      "Player is: Mbappe\n",
      "Player is: Lewandowski\n",
      "Player is: Neymar\n",
      "Player is: Kane\n"
     ]
    }
   ],
   "source": [
    "for playerName in top_goal_scorers:\n",
    "    print(f'Player is: {playerName}')"
   ]
  },
  {
   "cell_type": "code",
   "execution_count": 11,
   "metadata": {},
   "outputs": [
    {
     "name": "stdout",
     "output_type": "stream",
     "text": [
      "['Messi', 50]\n",
      "['Ronaldo', 43]\n",
      "['Mbappe', 41]\n",
      "['Haaland', 28]\n",
      "['Lewandowski', 25]\n"
     ]
    }
   ],
   "source": [
    "topScorerListOfLists = [[\"Messi\", 50], [\"Ronaldo\", 43], \n",
    "                    [\"Mbappe\", 41], [\"Haaland\", 28], [\"Lewandowski\", 25]]\n",
    "\n",
    "for playerStat in topScorerListOfLists:\n",
    "    print(playerStat)\n",
    "\n",
    "# How do we only print the number of goals?"
   ]
  },
  {
   "cell_type": "code",
   "execution_count": 8,
   "metadata": {},
   "outputs": [
    {
     "name": "stdout",
     "output_type": "stream",
     "text": [
      "Index of list is: 0, Value is ['Messi', 50]\n",
      "Index of list is: 1, Value is ['Ronaldo', 43]\n",
      "Index of list is: 2, Value is ['Mbappe', 41]\n",
      "Index of list is: 3, Value is ['Haaland', 28]\n",
      "Index of list is: 4, Value is ['Lewandowski', 25]\n"
     ]
    }
   ],
   "source": [
    "for index, _ in enumerate(topScorerListOfLists):\n",
    "    print(f'Index of list is: {index}, Value is {topScorerListOfLists[index]}')"
   ]
  },
  {
   "cell_type": "code",
   "execution_count": 9,
   "metadata": {},
   "outputs": [
    {
     "ename": "SyntaxError",
     "evalue": "unexpected EOF while parsing (<ipython-input-9-7914356ef7f9>, line 5)",
     "output_type": "error",
     "traceback": [
      "\u001b[0;36m  File \u001b[0;32m\"<ipython-input-9-7914356ef7f9>\"\u001b[0;36m, line \u001b[0;32m5\u001b[0m\n\u001b[0;31m    # your code here\u001b[0m\n\u001b[0m                    ^\u001b[0m\n\u001b[0;31mSyntaxError\u001b[0m\u001b[0;31m:\u001b[0m unexpected EOF while parsing\n"
     ]
    }
   ],
   "source": [
    "# Complete the function that takes in a list of numbers, and returns the maximum\n",
    "# Use if/else, for or while loops and other skills you have learned\n",
    "# Example input: [1, 4, 9, 3, 2] Output: 9\n",
    "def findMax(listOfValues):\n",
    "    # your code here"
   ]
  },
  {
   "cell_type": "markdown",
   "metadata": {},
   "source": [
    "#### Accessing Elements in Dictionaries"
   ]
  },
  {
   "cell_type": "code",
   "execution_count": 8,
   "metadata": {},
   "outputs": [
    {
     "name": "stdout",
     "output_type": "stream",
     "text": [
      "Messi's goals: 50\n"
     ]
    }
   ],
   "source": [
    "# Let's consider a dictionary of player statistics.\n",
    "player_stats = {\n",
    "    \"Messi\": {\"goals\": 50, \"assists\": 20},\n",
    "    \"Ronaldo\": {\"goals\": 45, \"assists\": 15},\n",
    "    \"Mbappe\": {\"goals\": 40, \"assists\": 18}\n",
    "}\n",
    "\n",
    "# To access Messi's goals:\n",
    "messi_goals = player_stats[\"Messi\"][\"goals\"]\n",
    "print(f\"Messi's goals: {messi_goals}\")  # Output: Messi's goals: 50\n"
   ]
  },
  {
   "cell_type": "code",
   "execution_count": null,
   "metadata": {},
   "outputs": [
    {
     "data": {
      "text/plain": [
       "{'Barcelona': []}"
      ]
     },
     "metadata": {},
     "output_type": "display_data"
    }
   ],
   "source": [
    "team_matchup_stats = {}\n",
    "\n",
    "team_matchup_stats['Barcelona'] = []\n",
    "\n",
    "team_matchup_stats"
   ]
  },
  {
   "cell_type": "code",
   "execution_count": null,
   "metadata": {},
   "outputs": [],
   "source": [
    "#Habet: list comprehension"
   ]
  },
  {
   "cell_type": "markdown",
   "metadata": {},
   "source": [
    "List comprehensions in Python offer a concise and readable way to create lists. \n",
    "\n",
    "It involves framing a `for` loop along with an optional `if` condition inside square brackets. \n",
    "\n",
    "This method not only simplifies the code but also optimizes it for better performance."
   ]
  },
  {
   "cell_type": "markdown",
   "metadata": {},
   "source": [
    "How does list comprehension work?\n",
    "\n",
    "[`expression for item in iterable if condition`]\n"
   ]
  },
  {
   "cell_type": "markdown",
   "metadata": {},
   "source": [
    "Why Use List Comprehensions?\n",
    "\n",
    "- **Readability:** They make the code more readable and straightforward.\n",
    "- **Efficiency:** Often faster than traditional for loops and manual list appending.\n",
    "- **Versatility:** Useful for creating new lists where each element is the result of some operation applied to each member of another sequence or iterable."
   ]
  },
  {
   "cell_type": "markdown",
   "metadata": {},
   "source": [
    "Let us go back to our list, we want to extrct the names of the players and save them in a seperate list\n"
   ]
  },
  {
   "cell_type": "markdown",
   "metadata": {},
   "source": [
    "Do the same with list comprehension"
   ]
  },
  {
   "cell_type": "code",
   "execution_count": 12,
   "metadata": {},
   "outputs": [
    {
     "data": {
      "text/plain": [
       "[['Messi', 50],\n",
       " ['Ronaldo', 43],\n",
       " ['Mbappe', 41],\n",
       " ['Haaland', 28],\n",
       " ['Lewandowski', 25]]"
      ]
     },
     "execution_count": 12,
     "metadata": {},
     "output_type": "execute_result"
    }
   ],
   "source": [
    "topScorerListOfLists"
   ]
  },
  {
   "cell_type": "code",
   "execution_count": 13,
   "metadata": {},
   "outputs": [
    {
     "data": {
      "text/plain": [
       "['Messi', 'Ronaldo', 'Mbappe', 'Haaland', 'Lewandowski']"
      ]
     },
     "execution_count": 13,
     "metadata": {},
     "output_type": "execute_result"
    }
   ],
   "source": [
    "player_names = [player[0] for player in topScorerListOfLists]\n",
    "player_names"
   ]
  },
  {
   "cell_type": "markdown",
   "metadata": {},
   "source": [
    "The same with the loop:"
   ]
  },
  {
   "cell_type": "code",
   "execution_count": 18,
   "metadata": {},
   "outputs": [
    {
     "data": {
      "text/plain": [
       "['Messi', 'Ronaldo', 'Mbappe', 'Haaland', 'Lewandowski']"
      ]
     },
     "execution_count": 18,
     "metadata": {},
     "output_type": "execute_result"
    }
   ],
   "source": [
    "player_names = []\n",
    "for player in topScorerListOfLists:\n",
    "    player_names.append(player[0])\n",
    "player_names"
   ]
  },
  {
   "cell_type": "markdown",
   "metadata": {},
   "source": [
    "Now we can add if condition, to extract only those players, who scored more than 30 goals "
   ]
  },
  {
   "cell_type": "code",
   "execution_count": 15,
   "metadata": {
    "scrolled": true
   },
   "outputs": [
    {
     "data": {
      "text/plain": [
       "['Messi', 'Ronaldo', 'Mbappe']"
      ]
     },
     "execution_count": 15,
     "metadata": {},
     "output_type": "execute_result"
    }
   ],
   "source": [
    "player_names = [player[0] for player in topScorerListOfLists if player[1]>30]\n",
    "player_names"
   ]
  },
  {
   "cell_type": "markdown",
   "metadata": {},
   "source": [
    "The same with the loop"
   ]
  },
  {
   "cell_type": "code",
   "execution_count": 19,
   "metadata": {},
   "outputs": [
    {
     "data": {
      "text/plain": [
       "['Messi', 'Ronaldo', 'Mbappe']"
      ]
     },
     "execution_count": 19,
     "metadata": {},
     "output_type": "execute_result"
    }
   ],
   "source": [
    "player_names = []\n",
    "for player in topScorerListOfLists:\n",
    "    if player[1] > 30:\n",
    "        player_names.append(player[0])\n",
    "player_names"
   ]
  },
  {
   "cell_type": "markdown",
   "metadata": {},
   "source": [
    "More complex example"
   ]
  },
  {
   "cell_type": "markdown",
   "metadata": {},
   "source": [
    "Suppose you have a list where each element is a tuple containing a football player's name and their match ratings over few games. \n",
    "\n",
    "Your goal is to calculate the average rating for each player and create a list of tuples with the player's name and their average rating. However, you only want to include players whose average rating is above a certain threshold, say 7.0."
   ]
  },
  {
   "cell_type": "code",
   "execution_count": 20,
   "metadata": {},
   "outputs": [],
   "source": [
    "player_ratings = [\n",
    "    ('Messi', [8.5, 9.0, 7.5, 8.0]),\n",
    "    ('Ronaldo', [7.0, 6.5, 6.0, 7.5]),\n",
    "    ('Mbappe', [7.5, 8.0, 7.0, 8.5]),\n",
    "    ('Haaland', [6.5, 7.0, 6.5, 6.0]),\n",
    "    ('Lewandowski', [8.0, 9.0, 8.5, 9.0])\n",
    "]"
   ]
  },
  {
   "cell_type": "code",
   "execution_count": 22,
   "metadata": {},
   "outputs": [
    {
     "data": {
      "text/plain": [
       "[('Messi', 8.25), ('Mbappe', 7.75), ('Lewandowski', 8.625)]"
      ]
     },
     "execution_count": 22,
     "metadata": {},
     "output_type": "execute_result"
    }
   ],
   "source": [
    "top_performers = []\n",
    "for player, ratings in player_ratings:\n",
    "    average_rating = sum(ratings) / len(ratings)\n",
    "    if average_rating > 7.0:\n",
    "        top_performers.append((player, average_rating))\n",
    "top_performers"
   ]
  },
  {
   "cell_type": "markdown",
   "metadata": {},
   "source": [
    "The same with the list comprehensions"
   ]
  },
  {
   "cell_type": "code",
   "execution_count": 27,
   "metadata": {},
   "outputs": [
    {
     "data": {
      "text/plain": [
       "[('Messi', 8.25), ('Mbappe', 7.75), ('Lewandowski', 8.625)]"
      ]
     },
     "execution_count": 27,
     "metadata": {},
     "output_type": "execute_result"
    }
   ],
   "source": [
    "top_performers = [(player, sum(ratings) / len(ratings)) for player, \n",
    "                  ratings in player_ratings if sum(ratings) / len(ratings) > 7.0]\n",
    "top_performers"
   ]
  },
  {
   "cell_type": "markdown",
   "metadata": {},
   "source": [
    "## Task\n",
    "\n",
    "\n",
    "For the given list of dictionaries\n",
    "\n",
    "do the following:\n",
    "\n",
    "**Top Goal Scorers:** Use list comprehension to create a list of names of players who scored more than 5 goals in the tournament.\n",
    "\n",
    "**Players with More Assists than Goals:** Create a list of players whose number of assists is greater than their number of goals. Format each element as a string: \"Player Name - Team\".\n",
    "\n",
    "**Most Valuable Player:** Generate a list with total contribution of the players (goals + assists). This is a list of lists with the name of the player and its MVP score."
   ]
  },
  {
   "cell_type": "code",
   "execution_count": 31,
   "metadata": {},
   "outputs": [],
   "source": [
    "player_stats = [\n",
    "    {'name': 'Messi', 'team': 'FC Barcelona', 'goals': 5, 'assists': 7},\n",
    "    {'name': 'Ronaldo', 'team': 'Juventus', 'goals': 6, 'assists': 5},\n",
    "    {'name': 'Neymar', 'team': 'PSG', 'goals': 2, 'assists': 9},\n",
    "    {'name': 'Lewandowski', 'team': 'Bayern Munich', 'goals': 8, 'assists': 3},\n",
    "]\n",
    "\n"
   ]
  },
  {
   "cell_type": "code",
   "execution_count": null,
   "metadata": {},
   "outputs": [],
   "source": []
  },
  {
   "cell_type": "code",
   "execution_count": null,
   "metadata": {},
   "outputs": [],
   "source": [
    "# What is Barcelona played Real Madrid and Athletico Madrid? How would we add that?\n",
    "\n",
    "\n",
    "# We have a new team to add; Tottenham has played Manchester United and Arsenal"
   ]
  },
  {
   "cell_type": "markdown",
   "metadata": {},
   "source": [
    "### Time complexity and efficient operations\n",
    "\n",
    "Understanding time complexity can help in writing efficient code. For instance, list append operations are generally O(1), whereas list insert operations can be O(n)."
   ]
  },
  {
   "cell_type": "markdown",
   "metadata": {},
   "source": [
    "**Mini-Project**: Building a function that manages a list of football players and their statistics."
   ]
  },
  {
   "cell_type": "markdown",
   "metadata": {},
   "source": [
    "# Tuples"
   ]
  },
  {
   "cell_type": "markdown",
   "metadata": {},
   "source": [
    "Tuples are one of the basic data structures in Python. They are similar to lists, but with a key difference: tuples are immutable. This means once a tuple is created, its contents cannot be modified. \n",
    "\n",
    "Tuples are commonly used for data that should not change throughout the execution of a program, thus ensuring data integrity.\n",
    "\n",
    "Defining a Tuple:\n",
    "\n",
    "- Tuples are defined by enclosing the elements in parentheses ().\n",
    "\n",
    "- A `tuple` can contain elements of different data types, including other tuples."
   ]
  },
  {
   "cell_type": "code",
   "execution_count": 41,
   "metadata": {},
   "outputs": [
    {
     "data": {
      "text/plain": [
       "['Messi', 34, 'Forward']"
      ]
     },
     "execution_count": 41,
     "metadata": {},
     "output_type": "execute_result"
    }
   ],
   "source": [
    "# player info as a list\n",
    "player_info = ['Messi', 34, 'Forward']\n",
    "player_info"
   ]
  },
  {
   "cell_type": "code",
   "execution_count": 42,
   "metadata": {},
   "outputs": [
    {
     "data": {
      "text/plain": [
       "['Messi', 40, 'Forward']"
      ]
     },
     "execution_count": 42,
     "metadata": {},
     "output_type": "execute_result"
    }
   ],
   "source": [
    "# Change modify the second value in the list\n",
    "player_info[1] = 40\n",
    "player_info"
   ]
  },
  {
   "cell_type": "markdown",
   "metadata": {},
   "source": [
    "Now lets create a tuple"
   ]
  },
  {
   "cell_type": "code",
   "execution_count": 44,
   "metadata": {},
   "outputs": [
    {
     "data": {
      "text/plain": [
       "('Messi', 34, 'Forward')"
      ]
     },
     "execution_count": 44,
     "metadata": {},
     "output_type": "execute_result"
    }
   ],
   "source": [
    "player_info = ('Messi', 34, 'Forward')\n",
    "player_info"
   ]
  },
  {
   "cell_type": "code",
   "execution_count": null,
   "metadata": {},
   "outputs": [],
   "source": [
    "# Try to modify its content\n",
    "player_info[1] = 40"
   ]
  },
  {
   "cell_type": "markdown",
   "metadata": {},
   "source": [
    "Characteristics of Tuples\n",
    "\n",
    "1. Immutability: Once a tuple is created, you cannot add, remove, or modify its elements.\n",
    "\n",
    "2. Indexing and Slicing: Similar to lists, you can access elements by indexing and slice tuples. Syntax is the same as that of lists."
   ]
  },
  {
   "cell_type": "code",
   "execution_count": 45,
   "metadata": {},
   "outputs": [
    {
     "data": {
      "text/plain": [
       "34"
      ]
     },
     "execution_count": 45,
     "metadata": {},
     "output_type": "execute_result"
    }
   ],
   "source": [
    "player_info[1]"
   ]
  },
  {
   "cell_type": "markdown",
   "metadata": {},
   "source": [
    "You can loop through a tuple using a for loop, similar to a list."
   ]
  },
  {
   "cell_type": "code",
   "execution_count": 50,
   "metadata": {},
   "outputs": [
    {
     "name": "stdout",
     "output_type": "stream",
     "text": [
      "Messi\n",
      "34\n",
      "Forward\n"
     ]
    }
   ],
   "source": [
    "for item in player_info:\n",
    "    print(item)"
   ]
  },
  {
   "cell_type": "markdown",
   "metadata": {},
   "source": [
    "**Tuple Unpacking:** Python allows you to unpack the tuple into variables in a convenient way."
   ]
  },
  {
   "cell_type": "code",
   "execution_count": 51,
   "metadata": {},
   "outputs": [
    {
     "data": {
      "text/plain": [
       "'Messi'"
      ]
     },
     "execution_count": 51,
     "metadata": {},
     "output_type": "execute_result"
    }
   ],
   "source": [
    "name, age, position = player_info\n",
    "name"
   ]
  },
  {
   "cell_type": "code",
   "execution_count": 52,
   "metadata": {},
   "outputs": [
    {
     "data": {
      "text/plain": [
       "34"
      ]
     },
     "execution_count": 52,
     "metadata": {},
     "output_type": "execute_result"
    }
   ],
   "source": [
    "age"
   ]
  },
  {
   "cell_type": "markdown",
   "metadata": {},
   "source": [
    "**Tuple Methods**\n",
    "\n",
    "Tuples have fewer methods compared to lists, due to their immutability. Key methods include:\n",
    "\n",
    "- .count(value): Returns the number of times value appears in the tuple.\n",
    "- .index(value): Returns the first index of value."
   ]
  },
  {
   "cell_type": "code",
   "execution_count": 55,
   "metadata": {},
   "outputs": [],
   "source": [
    "players = (\"CF\", \"MF\", \"CF\", \"D\", \"GK\", \"CF\", \"MF\", \"MF\", \"DF\")"
   ]
  },
  {
   "cell_type": "code",
   "execution_count": 56,
   "metadata": {
    "scrolled": true
   },
   "outputs": [
    {
     "data": {
      "text/plain": [
       "3"
      ]
     },
     "execution_count": 56,
     "metadata": {},
     "output_type": "execute_result"
    }
   ],
   "source": [
    "players.count('CF')"
   ]
  },
  {
   "cell_type": "markdown",
   "metadata": {},
   "source": [
    "Returns only the first occurrence of a specified value"
   ]
  },
  {
   "cell_type": "code",
   "execution_count": 57,
   "metadata": {
    "scrolled": true
   },
   "outputs": [
    {
     "data": {
      "text/plain": [
       "0"
      ]
     },
     "execution_count": 57,
     "metadata": {},
     "output_type": "execute_result"
    }
   ],
   "source": [
    "players.index('CF')"
   ]
  },
  {
   "cell_type": "markdown",
   "metadata": {},
   "source": [
    "## Sets\n",
    "\n",
    "A set in Python is an unordered collection of unique elements. \n",
    "Sets are mutable and can be modified after their creation, but they can only contain unique items (no duplicates)."
   ]
  },
  {
   "cell_type": "markdown",
   "metadata": {},
   "source": [
    "Creating a Set:\n",
    "\n",
    "Defined by curly braces {} or using the set() function.\n",
    "\n",
    "Example: `teams = {'Barcelona', 'Real Madrid', 'Liverpool'}.`\n"
   ]
  },
  {
   "cell_type": "code",
   "execution_count": 59,
   "metadata": {},
   "outputs": [
    {
     "data": {
      "text/plain": [
       "{'Barcelona', 'Liverpool', 'Real Madrid'}"
      ]
     },
     "execution_count": 59,
     "metadata": {},
     "output_type": "execute_result"
    }
   ],
   "source": [
    "teams = {'Barcelona', 'Real Madrid', 'Liverpool'}\n",
    "teams"
   ]
  },
  {
   "cell_type": "markdown",
   "metadata": {},
   "source": [
    "What happens when you add duplicated values"
   ]
  },
  {
   "cell_type": "code",
   "execution_count": 62,
   "metadata": {
    "scrolled": true
   },
   "outputs": [
    {
     "data": {
      "text/plain": [
       "{'Barcelona', 'Liverpool', 'Real Madrid'}"
      ]
     },
     "execution_count": 62,
     "metadata": {},
     "output_type": "execute_result"
    }
   ],
   "source": [
    "teams = {'Barcelona', 'Real Madrid', 'Liverpool', 'Liverpool'}\n",
    "teams"
   ]
  },
  {
   "cell_type": "markdown",
   "metadata": {},
   "source": [
    "If you think sets are like dictionaries, think twice!"
   ]
  },
  {
   "cell_type": "markdown",
   "metadata": {},
   "source": [
    "## Basic Operations with Sets\n",
    "\n",
    "- **Adding Elements:** Use add() to add a single item.\n",
    "- **Removing Elements:** Use remove() or discard() to delete items.\n",
    "- **Set Operations:** Perform union, intersection, and difference operations, useful in comparative analysis."
   ]
  },
  {
   "cell_type": "code",
   "execution_count": 20,
   "metadata": {},
   "outputs": [],
   "source": [
    "real_madrid = {\n",
    "    'Karim Benzema', 'Luka Modric', 'Toni Kroos', \n",
    "    'Eden Hazard', 'Thibaut Courtois', 'Vinicius Junior',\n",
    "    'Luis Figo', 'Michael Laudrup', 'Ronaldo Nazario', 'Luis Enrique', 'Gheorghe Hagi'\n",
    "}\n",
    "\n",
    "fc_barcelona = {\n",
    "    'Lionel Messi', 'Xavi Hernandez', 'Andres Iniesta', 'Luis Enrique',\n",
    "    'Gerard Pique', 'Carles Puyol', 'Ronaldinho', 'Robert Lewandowski',\n",
    "    'Luis Figo', 'Gheorghe Hagi', 'Michael Laudrup', 'Ronaldo Nazario'\n",
    "}\n"
   ]
  },
  {
   "cell_type": "markdown",
   "metadata": {},
   "source": [
    "Get the players who played both for Real Madrid and Barcelona (Intersection)"
   ]
  },
  {
   "cell_type": "code",
   "execution_count": 21,
   "metadata": {},
   "outputs": [
    {
     "data": {
      "text/plain": [
       "{'Gheorghe Hagi',\n",
       " 'Luis Enrique',\n",
       " 'Luis Figo',\n",
       " 'Michael Laudrup',\n",
       " 'Ronaldo Nazario'}"
      ]
     },
     "execution_count": 21,
     "metadata": {},
     "output_type": "execute_result"
    }
   ],
   "source": [
    "real_madrid.intersection(fc_barcelona)"
   ]
  },
  {
   "cell_type": "markdown",
   "metadata": {},
   "source": [
    "Players who played for Real Madrid but not for FC Barcelona"
   ]
  },
  {
   "cell_type": "code",
   "execution_count": 23,
   "metadata": {},
   "outputs": [
    {
     "data": {
      "text/plain": [
       "{'Eden Hazard',\n",
       " 'Karim Benzema',\n",
       " 'Luka Modric',\n",
       " 'Thibaut Courtois',\n",
       " 'Toni Kroos',\n",
       " 'Vinicius Junior'}"
      ]
     },
     "execution_count": 23,
     "metadata": {},
     "output_type": "execute_result"
    }
   ],
   "source": [
    "real_madrid.difference(fc_barcelona)"
   ]
  },
  {
   "cell_type": "markdown",
   "metadata": {},
   "source": [
    "Players who played for FC Barcelona but not for Real Madrid"
   ]
  },
  {
   "cell_type": "code",
   "execution_count": null,
   "metadata": {},
   "outputs": [],
   "source": [
    "## your code here"
   ]
  },
  {
   "cell_type": "markdown",
   "metadata": {},
   "source": [
    "Lets recall main concepts from OOP, particularly, class and method and lets create a class player"
   ]
  },
  {
   "cell_type": "code",
   "execution_count": 45,
   "metadata": {},
   "outputs": [],
   "source": [
    "class Player:\n",
    "    def __init__(self, last_name, first_name, goals):\n",
    "        self.first_last_name = (last_name, first_name)        \n",
    "        self.goals = goals"
   ]
  },
  {
   "cell_type": "markdown",
   "metadata": {},
   "source": [
    "Create an object Messi"
   ]
  },
  {
   "cell_type": "code",
   "execution_count": 47,
   "metadata": {},
   "outputs": [
    {
     "data": {
      "text/plain": [
       "('Messi', 'Lionel')"
      ]
     },
     "execution_count": 47,
     "metadata": {},
     "output_type": "execute_result"
    }
   ],
   "source": [
    "messi = Player(\"Messi\", \"Lionel\",  25)\n",
    "messi.first_last_name"
   ]
  },
  {
   "cell_type": "markdown",
   "metadata": {},
   "source": [
    "Extract the first name"
   ]
  },
  {
   "cell_type": "code",
   "execution_count": 48,
   "metadata": {},
   "outputs": [
    {
     "data": {
      "text/plain": [
       "'Messi'"
      ]
     },
     "execution_count": 48,
     "metadata": {},
     "output_type": "execute_result"
    }
   ],
   "source": [
    "messi.first_last_name[0]"
   ]
  },
  {
   "cell_type": "markdown",
   "metadata": {},
   "source": [
    "Can you try to change it ?"
   ]
  },
  {
   "cell_type": "code",
   "execution_count": 49,
   "metadata": {},
   "outputs": [
    {
     "ename": "TypeError",
     "evalue": "'tuple' object does not support item assignment",
     "output_type": "error",
     "traceback": [
      "\u001b[0;31m---------------------------------------------------------------------------\u001b[0m",
      "\u001b[0;31mTypeError\u001b[0m                                 Traceback (most recent call last)",
      "\u001b[0;32m<ipython-input-49-3c95ccd106ae>\u001b[0m in \u001b[0;36m<module>\u001b[0;34m\u001b[0m\n\u001b[0;32m----> 1\u001b[0;31m \u001b[0mmessi\u001b[0m\u001b[0;34m.\u001b[0m\u001b[0mfirst_last_name\u001b[0m\u001b[0;34m[\u001b[0m\u001b[0;36m0\u001b[0m\u001b[0;34m]\u001b[0m \u001b[0;34m=\u001b[0m \u001b[0;34m'Habet'\u001b[0m\u001b[0;34m\u001b[0m\u001b[0;34m\u001b[0m\u001b[0m\n\u001b[0m",
      "\u001b[0;31mTypeError\u001b[0m: 'tuple' object does not support item assignment"
     ]
    }
   ],
   "source": [
    "messi.first_last_name[0] = 'Habet'"
   ]
  },
  {
   "cell_type": "markdown",
   "metadata": {},
   "source": [
    "However"
   ]
  },
  {
   "cell_type": "code",
   "execution_count": 50,
   "metadata": {},
   "outputs": [
    {
     "data": {
      "text/plain": [
       "('Habet', 'Madoyan')"
      ]
     },
     "execution_count": 50,
     "metadata": {},
     "output_type": "execute_result"
    }
   ],
   "source": [
    "messi.first_last_name = ('Habet', 'Madoyan')\n",
    "messi.first_last_name"
   ]
  },
  {
   "cell_type": "markdown",
   "metadata": {},
   "source": [
    "Why does this happen ?"
   ]
  },
  {
   "cell_type": "markdown",
   "metadata": {},
   "source": [
    "In your Player class, first_last_name is indeed initialized as a tuple, which is an immutable data structure.\n",
    "\n",
    "However, when you execute messi.first_last_name = ('Habet', 'Madoyan'), you are not mutating the tuple itself; rather, you are reassigning the first_last_name attribute of the messi object to point to a new object, which is the string ('Habet', 'Madoyan')."
   ]
  },
  {
   "cell_type": "markdown",
   "metadata": {},
   "source": [
    "maybe we need also to talk about lambda functions ?"
   ]
  }
 ],
 "metadata": {
  "kernelspec": {
   "display_name": "Python 3",
   "language": "python",
   "name": "python3"
  },
  "language_info": {
   "codemirror_mode": {
    "name": "ipython",
    "version": 3
   },
   "file_extension": ".py",
   "mimetype": "text/x-python",
   "name": "python",
   "nbconvert_exporter": "python",
   "pygments_lexer": "ipython3",
   "version": "3.7.4"
  }
 },
 "nbformat": 4,
 "nbformat_minor": 4
}
