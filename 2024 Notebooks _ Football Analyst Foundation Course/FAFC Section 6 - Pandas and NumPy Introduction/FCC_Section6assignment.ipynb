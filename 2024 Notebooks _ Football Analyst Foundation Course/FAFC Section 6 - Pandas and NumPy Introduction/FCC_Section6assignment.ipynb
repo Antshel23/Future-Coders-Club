{
 "cells": [
  {
   "cell_type": "code",
   "execution_count": null,
   "metadata": {},
   "outputs": [],
   "source": []
  },
  {
   "cell_type": "markdown",
   "metadata": {},
   "source": [
    "## Week 6 Assignment Instructions:\n",
    "\n",
    "- Load in the match_results.csv dataframe\n",
    "\n",
    "- Get the number of times Manchester United has played as home team\n",
    "  - How can you use .value_counts() to get the answer?\n",
    "\n",
    "- Filter out all the games where either Manchester United played or Arsenal played\n",
    "\n",
    "- Make a separate dataframe where Manchester United only played as the home team\n",
    "- Print out the average number of goals that Manchester United scored at home\n",
    "- Print out the standard deviation of the number of goals Manchester United scored at home\n",
    "\n",
    "- Make a separate dataframe where Arsenal played either home or away\n",
    "- Make a new column that determines the goal differential\n",
    "  - If Arsenal is winning, make it positive; else make it negative\n",
    "- Print the average number of goals that Arsenal scored at home vs away"
   ]
  }
 ],
 "metadata": {
  "kernelspec": {
   "display_name": "Python 3 (ipykernel)",
   "language": "python",
   "name": "python3"
  },
  "language_info": {
   "codemirror_mode": {
    "name": "ipython",
    "version": 3
   },
   "file_extension": ".py",
   "mimetype": "text/x-python",
   "name": "python",
   "nbconvert_exporter": "python",
   "pygments_lexer": "ipython3",
   "version": "3.11.5"
  }
 },
 "nbformat": 4,
 "nbformat_minor": 2
}
