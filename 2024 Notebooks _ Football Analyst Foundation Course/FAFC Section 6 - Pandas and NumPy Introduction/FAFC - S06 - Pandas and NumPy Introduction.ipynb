{
 "cells": [
  {
   "cell_type": "markdown",
   "metadata": {},
   "source": [
    "## Section 6: Continuing Pandas, Introducing NumPy\n",
    "\n",
    "By the end of this section, you will be able to:\n",
    "- Use advanced logical indexing in numpy and pandas\n",
    "- Filter dataframes based on columns or logical statements"
   ]
  },
  {
   "cell_type": "code",
   "execution_count": 10,
   "metadata": {},
   "outputs": [],
   "source": [
    "import pandas as pd\n",
    "import numpy as np\n",
    "\n",
    "# Creating DataFrame from given match_results data\n",
    "\n",
    "match_results_df = pd.read_csv('match_results.csv')"
   ]
  },
  {
   "cell_type": "code",
   "execution_count": 11,
   "metadata": {},
   "outputs": [
    {
     "data": {
      "text/html": [
       "<div>\n",
       "<style scoped>\n",
       "    .dataframe tbody tr th:only-of-type {\n",
       "        vertical-align: middle;\n",
       "    }\n",
       "\n",
       "    .dataframe tbody tr th {\n",
       "        vertical-align: top;\n",
       "    }\n",
       "\n",
       "    .dataframe thead th {\n",
       "        text-align: right;\n",
       "    }\n",
       "</style>\n",
       "<table border=\"1\" class=\"dataframe\">\n",
       "  <thead>\n",
       "    <tr style=\"text-align: right;\">\n",
       "      <th></th>\n",
       "      <th>Week</th>\n",
       "      <th>HomeTeam</th>\n",
       "      <th>AwayTeam</th>\n",
       "      <th>HomeGoals</th>\n",
       "      <th>AwayGoals</th>\n",
       "    </tr>\n",
       "  </thead>\n",
       "  <tbody>\n",
       "    <tr>\n",
       "      <th>0</th>\n",
       "      <td>1</td>\n",
       "      <td>Arsenal</td>\n",
       "      <td>Chelsea</td>\n",
       "      <td>2</td>\n",
       "      <td>1</td>\n",
       "    </tr>\n",
       "    <tr>\n",
       "      <th>1</th>\n",
       "      <td>1</td>\n",
       "      <td>Manchester United</td>\n",
       "      <td>Liverpool</td>\n",
       "      <td>3</td>\n",
       "      <td>2</td>\n",
       "    </tr>\n",
       "    <tr>\n",
       "      <th>2</th>\n",
       "      <td>1</td>\n",
       "      <td>Manchester City</td>\n",
       "      <td>Leicester City</td>\n",
       "      <td>1</td>\n",
       "      <td>0</td>\n",
       "    </tr>\n",
       "    <tr>\n",
       "      <th>3</th>\n",
       "      <td>1</td>\n",
       "      <td>Spurs</td>\n",
       "      <td>Everton</td>\n",
       "      <td>0</td>\n",
       "      <td>2</td>\n",
       "    </tr>\n",
       "    <tr>\n",
       "      <th>4</th>\n",
       "      <td>1</td>\n",
       "      <td>West Ham</td>\n",
       "      <td>Aston Villa</td>\n",
       "      <td>3</td>\n",
       "      <td>1</td>\n",
       "    </tr>\n",
       "  </tbody>\n",
       "</table>\n",
       "</div>"
      ],
      "text/plain": [
       "   Week           HomeTeam        AwayTeam  HomeGoals  AwayGoals\n",
       "0     1            Arsenal         Chelsea          2          1\n",
       "1     1  Manchester United       Liverpool          3          2\n",
       "2     1    Manchester City  Leicester City          1          0\n",
       "3     1              Spurs         Everton          0          2\n",
       "4     1           West Ham     Aston Villa          3          1"
      ]
     },
     "execution_count": 11,
     "metadata": {},
     "output_type": "execute_result"
    }
   ],
   "source": [
    "match_results_df.head()"
   ]
  },
  {
   "cell_type": "markdown",
   "metadata": {},
   "source": [
    "## NumPy Basics\n",
    "\n",
    "NumPy is a library for the Python programming language, adding support for large, multi-dimensional arrays and matrices, along with a large collection of high-level mathematical functions to operate on these arrays.\n",
    "\n",
    "Let's understand some basics of NumPy using the `match_results_df` DataFrame."
   ]
  },
  {
   "cell_type": "code",
   "execution_count": 4,
   "metadata": {},
   "outputs": [
    {
     "name": "stdout",
     "output_type": "stream",
     "text": [
      "Home Goals Array: [2 3 1 0 3 1 2 1 1 2 1 2 3 0 1 2 0 1 2 3 1 0 2 1 0 1 1 1 3 2 2 0 3 0 1 1 3\n",
      " 0 1 0 1 2 3 0 1 2 1 3 2 0 0 2 0 1 2 1 1 3 1 1 0 2 1 3 2 2 3 1 1 3 0 1 1 2\n",
      " 2 3 0 2 1 1 1 2 0 1 3 1 0 2 1 0 2 1 2 3 2 2 0 1 0 1]\n"
     ]
    }
   ],
   "source": [
    "# Understanding Arrays and NumPy Basics\n",
    "\n",
    "# Creating a NumPy array from HomeGoals\n",
    "home_goals_array = np.array(match_results_df['HomeGoals'])\n",
    "print('Home Goals Array:', home_goals_array)"
   ]
  },
  {
   "cell_type": "markdown",
   "metadata": {},
   "source": [
    "## NumPy Functions\n",
    "\n",
    "NumPy provides a variety of functions that can be applied to arrays for aggregation, reshaping, slicing, and indexing. We'll explore some of these functions using the `home_goals_array`."
   ]
  },
  {
   "cell_type": "code",
   "execution_count": null,
   "metadata": {},
   "outputs": [],
   "source": [
    "# Mathematical Functions\n",
    "\n",
    "# Sum of HomeGoals\n",
    "sum_home_goals = np.sum(home_goals_array)\n",
    "print('Sum of Home Goals:', sum_home_goals)\n",
    "\n",
    "# Mean of HomeGoals\n",
    "mean_home_goals = np.mean(home_goals_array)\n",
    "print('Mean of Home Goals:', mean_home_goals)\n",
    "\n",
    "# Slicing\n",
    "sliced_array = home_goals_array[:5]  # Get the first 5 elements\n",
    "print('Sliced Array:', sliced_array)\n",
    "\n",
    "# Indexing\n",
    "indexed_element = home_goals_array[0]  # Get the first element\n",
    "print('Indexed Element:', indexed_element)"
   ]
  },
  {
   "cell_type": "markdown",
   "metadata": {},
   "source": [
    "## Logical Operations\n",
    "\n",
    "Logical operations can be used to compare elements of arrays or DataFrames. We can perform element-wise comparison of array elements and DataFrame cells to filter data based on conditions."
   ]
  },
  {
   "cell_type": "code",
   "execution_count": 6,
   "metadata": {},
   "outputs": [],
   "source": [
    "match_results_df_top = match_results_df.head()"
   ]
  },
  {
   "cell_type": "code",
   "execution_count": 9,
   "metadata": {},
   "outputs": [],
   "source": [
    "home_goals_top = match_results_df_top['HomeGoals']"
   ]
  },
  {
   "cell_type": "code",
   "execution_count": 10,
   "metadata": {},
   "outputs": [
    {
     "data": {
      "text/plain": [
       "0    False\n",
       "1     True\n",
       "2    False\n",
       "3    False\n",
       "4     True\n",
       "Name: HomeGoals, dtype: bool"
      ]
     },
     "execution_count": 10,
     "metadata": {},
     "output_type": "execute_result"
    }
   ],
   "source": [
    "home_goals_top > 2"
   ]
  },
  {
   "cell_type": "code",
   "execution_count": 27,
   "metadata": {},
   "outputs": [
    {
     "data": {
      "text/html": [
       "<div>\n",
       "<style scoped>\n",
       "    .dataframe tbody tr th:only-of-type {\n",
       "        vertical-align: middle;\n",
       "    }\n",
       "\n",
       "    .dataframe tbody tr th {\n",
       "        vertical-align: top;\n",
       "    }\n",
       "\n",
       "    .dataframe thead th {\n",
       "        text-align: right;\n",
       "    }\n",
       "</style>\n",
       "<table border=\"1\" class=\"dataframe\">\n",
       "  <thead>\n",
       "    <tr style=\"text-align: right;\">\n",
       "      <th></th>\n",
       "      <th>Round</th>\n",
       "      <th>HomeTeam</th>\n",
       "      <th>AwayTeam</th>\n",
       "      <th>HomeGoals</th>\n",
       "      <th>AwayGoals</th>\n",
       "    </tr>\n",
       "  </thead>\n",
       "  <tbody>\n",
       "    <tr>\n",
       "      <th>0</th>\n",
       "      <td>1</td>\n",
       "      <td>Arsenal</td>\n",
       "      <td>Chelsea</td>\n",
       "      <td>2</td>\n",
       "      <td>1</td>\n",
       "    </tr>\n",
       "    <tr>\n",
       "      <th>1</th>\n",
       "      <td>1</td>\n",
       "      <td>Manchester United</td>\n",
       "      <td>Liverpool</td>\n",
       "      <td>3</td>\n",
       "      <td>2</td>\n",
       "    </tr>\n",
       "    <tr>\n",
       "      <th>2</th>\n",
       "      <td>1</td>\n",
       "      <td>Manchester City</td>\n",
       "      <td>Leicester City</td>\n",
       "      <td>1</td>\n",
       "      <td>0</td>\n",
       "    </tr>\n",
       "    <tr>\n",
       "      <th>3</th>\n",
       "      <td>1</td>\n",
       "      <td>Spurs</td>\n",
       "      <td>Everton</td>\n",
       "      <td>0</td>\n",
       "      <td>2</td>\n",
       "    </tr>\n",
       "    <tr>\n",
       "      <th>4</th>\n",
       "      <td>1</td>\n",
       "      <td>West Ham</td>\n",
       "      <td>Aston Villa</td>\n",
       "      <td>3</td>\n",
       "      <td>1</td>\n",
       "    </tr>\n",
       "  </tbody>\n",
       "</table>\n",
       "</div>"
      ],
      "text/plain": [
       "   Round           HomeTeam        AwayTeam  HomeGoals  AwayGoals\n",
       "0      1            Arsenal         Chelsea          2          1\n",
       "1      1  Manchester United       Liverpool          3          2\n",
       "2      1    Manchester City  Leicester City          1          0\n",
       "3      1              Spurs         Everton          0          2\n",
       "4      1           West Ham     Aston Villa          3          1"
      ]
     },
     "execution_count": 27,
     "metadata": {},
     "output_type": "execute_result"
    }
   ],
   "source": [
    "match_results_match_results_match_results_match_results_match_results_match_results_df_top"
   ]
  },
  {
   "cell_type": "code",
   "execution_count": null,
   "metadata": {},
   "outputs": [],
   "source": [
    "# Comparison operators and masking\n",
    "\n",
    "# Find which games have HomeGoals greater than 2\n",
    "mask = home_goals_top > 2\n",
    "print('Rounds with HomeGoals > 2:', mask)\n"
   ]
  },
  {
   "cell_type": "code",
   "execution_count": null,
   "metadata": {},
   "outputs": [],
   "source": [
    "# Logical indexing using Pandas DataFrames\n",
    "\n",
    "# Find matches where HomeGoals are greater than 2\n",
    "filtered_df = match_results_df[match_results_df['HomeGoals'] > 2]\n",
    "filtered_df.head()"
   ]
  },
  {
   "cell_type": "markdown",
   "metadata": {},
   "source": [
    "## Pandas Logical Indexing Examples"
   ]
  },
  {
   "cell_type": "code",
   "execution_count": null,
   "metadata": {},
   "outputs": [],
   "source": [
    "# Example 1: Matches where HomeGoals > 2\n",
    "filtered_df1 = match_results_df[match_results_df['HomeGoals'] > 2]\n",
    "\n",
    "# Example 2: Matches where AwayTeam is 'Arsenal' and AwayGoals > 1\n",
    "filtered_df2 = match_results_df[(match_results_df['AwayTeam'] == 'Arsenal') & (match_results_df['AwayGoals'] > 1)]\n",
    "\n",
    "# Example 3: Matches where HomeGoals = AwayGoals\n",
    "filtered_df3 = match_results_df[match_results_df['HomeGoals'] == match_results_df['AwayGoals']]\n",
    "\n",
    "# Example 4: Matches where HomeTeam is 'Chelsea' and they lost\n",
    "filtered_df4 = match_results_df[(match_results_df['HomeTeam'] == 'Chelsea') & (match_results_df['HomeGoals'] < match_results_df['AwayGoals'])]\n",
    "\n",
    "# Example 5: Matches where AwayTeam is 'Liverpool' and total goals > 3\n",
    "filtered_df5 = match_results_df[(match_results_df['AwayTeam'] == 'Liverpool') & (match_results_df['HomeGoals'] + match_results_df['AwayGoals'] > 3)]\n",
    "\n",
    "# Example 6: Matches played in Round 1\n",
    "filtered_df6 = match_results_df[match_results_df['Round'] == 1]\n",
    "\n",
    "# Example 7: Matches where HomeGoals are even numbers\n",
    "filtered_df7 = match_results_df[match_results_df['HomeGoals'] % 2 == 0]\n",
    "\n",
    "# Example 8: Matches where AwayGoals are odd numbers\n",
    "filtered_df8 = match_results_df[match_results_df['AwayGoals'] % 2 != 0]\n",
    "\n",
    "# Example 9: Matches where the total goals are prime numbers\n",
    "filtered_df9 = match_results_df[match_results_df['HomeGoals'] + match_results_df['AwayGoals']].apply(is_prime)\n",
    "\n",
    "# Example 10: Matches where HomeGoals are greater than the average HomeGoals\n",
    "average_home_goals = match_results_df['HomeGoals'].mean()\n",
    "filtered_df10 = match_results_df[match_results_df['HomeGoals'] > average_home_goals]"
   ]
  },
  {
   "cell_type": "markdown",
   "metadata": {},
   "source": [
    "## Practice Examples"
   ]
  },
  {
   "cell_type": "code",
   "execution_count": 12,
   "metadata": {},
   "outputs": [],
   "source": [
    "\n",
    "# Example 11: Matches where the HomeTeam is 'Manchester City' and they didn't concede a goal\n",
    "\n",
    "# Example 12: Matches in which neither team scored a goal (0-0 draw)\n",
    "\n",
    "# Example 13: Matches where HomeTeam is 'Tottenham Hotspur' and they scored more than 2 goals\n",
    "\n",
    "# Example 14: Matches where AwayTeam is 'Aston Villa' and they won the game\n",
    "\n",
    "# Example 15: Matches where HomeGoals and AwayGoals difference is more than 3\n",
    "\n",
    "# Example 16: Matches where total goals scored in the match is less than 2\n",
    "\n",
    "# Example 17: Matches where Manchester United played\n",
    "\n",
    "# Example 18: Matches in Week 2 where the HomeTeam won\n",
    "\n",
    "# Example 19: Matches where AwayTeam is 'Everton' and they either won or it was a draw\n",
    "\n",
    "# Example 20: Matches where HomeTeam starts with 'M' and they lost the match"
   ]
  },
  {
   "cell_type": "code",
   "execution_count": null,
   "metadata": {},
   "outputs": [],
   "source": [
    "# Convert HomeGoals and AwayGoals to numpy arrays\n",
    "home_goals_array = np.array(match_results_df['HomeGoals'])\n",
    "away_goals_array = np.array(match_results_df['AwayGoals'])\n",
    "\n",
    "# NumPy Logical Indexing Examples\n",
    "\n",
    "# Example 1: Rounds where HomeGoals > 2\n",
    "ex1 = np.where(home_goals_array > 2)\n",
    "\n",
    "# Example 2: Rounds where AwayGoals > 2\n",
    "ex2 = np.where(away_goals_array > 2)\n",
    "\n",
    "# Example 3: Rounds where HomeGoals < AwayGoals\n",
    "ex3 = np.where(home_goals_array < away_goals_array)\n",
    "\n",
    "# Example 4: Rounds where HomeGoals = AwayGoals\n",
    "ex4 = np.where(home_goals_array == away_goals_array)\n",
    "\n",
    "# Example 5: Rounds where HomeGoals are not equal to AwayGoals\n",
    "ex5 = np.where(home_goals_array != away_goals_array)\n",
    "\n",
    "# Example 6: Rounds where HomeGoals + AwayGoals > 3 (High scoring games)\n",
    "ex6 = np.where(home_goals_array + away_goals_array > 3)\n",
    "\n",
    "# Example 7: Rounds where HomeGoals are even numbers\n",
    "ex7 = np.where(home_goals_array % 2 == 0)\n",
    "\n",
    "# Example 8: Rounds where AwayGoals are odd numbers\n",
    "ex8 = np.where(away_goals_array % 2 != 0)\n",
    "\n",
    "# Example 9: Rounds where HomeGoals are greater than the average HomeGoals\n",
    "average_home_goals = np.mean(home_goals_array)\n",
    "ex10 = np.where(home_goals_array > average_home_goals)"
   ]
  },
  {
   "cell_type": "code",
   "execution_count": null,
   "metadata": {},
   "outputs": [],
   "source": [
    "# Example 1: Add a column 'HomeWin' to mark if the home team won\n",
    "\n",
    "# Example 2: Add a column 'AwayWin' to mark if the away team won\n",
    "\n",
    "# Example 3: Add a column 'Draw' to mark if the match was a draw\n",
    "\n",
    "# Example 4: Add a column 'Result' to show 'H' for home win, 'A' for away win, and 'D' for draw\n",
    "\n",
    "# Example 5: Add a column 'GoalDiff' to calculate the goal difference in the match\n",
    "\n",
    "# Example 6: Mark games where Arsenal was the home team and won\n",
    "\n",
    "# Example 7: Mark games with more than 3 goals in total\n",
    "\n",
    "# Example 8: Identify games where the home team scored at least twice\n",
    "\n",
    "# Example 9: Identify games where Manchester United played (either home or away)\n",
    "\n",
    "# Example 10: Mark games where the away team did not score any goal\n"
   ]
  },
  {
   "cell_type": "code",
   "execution_count": null,
   "metadata": {},
   "outputs": [],
   "source": []
  },
  {
   "cell_type": "code",
   "execution_count": null,
   "metadata": {},
   "outputs": [],
   "source": []
  },
  {
   "cell_type": "code",
   "execution_count": 15,
   "metadata": {},
   "outputs": [],
   "source": [
    "# Example 1: Add a column 'HomeWin' to mark if the home team won\n",
    "match_results_df['HomeWin'] = np.where(match_results_df['HomeGoals'] > match_results_df['AwayGoals'], True, False)\n",
    "\n",
    "# Example 2: Add a column 'AwayWin' to mark if the away team won\n",
    "match_results_df['AwayWin'] = np.where(match_results_df['AwayGoals'] > match_results_df['HomeGoals'], True, False)\n",
    "\n",
    "# Example 3: Add a column 'Draw' to mark if the match was a draw\n",
    "match_results_df['Draw'] = np.where(match_results_df['HomeGoals'] == match_results_df['AwayGoals'], True, False)\n",
    "\n",
    "# Example 4: Add a column 'Result' to show 'H' for home win, 'A' for away win, and 'D' for draw\n",
    "match_results_df['Result'] = np.where(match_results_df['HomeGoals'] == match_results_df['AwayGoals'], 'D', \n",
    "                        np.where(match_results_df['HomeGoals'] > match_results_df['AwayGoals'], 'H', 'A'))\n",
    "\n",
    "# Example 5: Add a column 'GoalDiff' to calculate the goal difference in the match\n",
    "match_results_df['GoalDiff'] = match_results_df['HomeGoals'] - match_results_df['AwayGoals']\n",
    "\n",
    "# Example 6: Mark games where Arsenal was the home team and won\n",
    "match_results_df['ArsenalHomeWin'] = np.where((match_results_df['HomeTeam'] == 'Arsenal') & (match_results_df['HomeWin'] == True), True, False)\n",
    "\n",
    "# Example 7: Mark games with more than 3 goals in total\n",
    "match_results_df['HighScoring'] = np.where(match_results_df['HomeGoals'] + match_results_df['AwayGoals'] > 3, True, False)\n",
    "\n",
    "# Example 8: Identify games where the home team scored at least twice\n",
    "match_results_df['HomeScored2+'] = np.where(match_results_df['HomeGoals'] >= 2, True, False)\n",
    "\n",
    "# Example 9: Identify games where Manchester United played (either home or away)\n",
    "match_results_df['ManUtdPlayed'] = np.where((match_results_df['HomeTeam'] == 'Manchester United') | (match_results_df['AwayTeam'] == 'Manchester United'), True, False)\n",
    "\n",
    "# Example 10: Mark games where the away team did not score any goal\n",
    "match_results_df['AwayTeamScoredZero'] = np.where(match_results_df['AwayGoals'] == 0, True, False)\n"
   ]
  },
  {
   "cell_type": "code",
   "execution_count": 14,
   "metadata": {},
   "outputs": [],
   "source": [
    "# Other Pandas Filtering Tools\n",
    "\n",
    "# Example 1: Using .isin() to filter rows where HomeTeam is either 'Arsenal' or 'Chelsea'\n",
    "filtered_df11 = match_results_df[match_results_df['HomeTeam'].isin(['Arsenal', 'Chelsea'])]\n",
    "\n",
    "# Example 2: Using .loc() to get all matches in Week 5 where AwayGoals were 1\n",
    "filtered_df13 = match_results_df.loc[(match_results_df['Week'] == 5) & (match_results_df['AwayGoals'] == 1), 'AwayTeam']"
   ]
  },
  {
   "cell_type": "code",
   "execution_count": null,
   "metadata": {},
   "outputs": [],
   "source": [
    "# 1. Filtering rows where HomeGoals are greater than AwayGoals and selecting HomeTeam and AwayTeam columns\n",
    "\n",
    "# 2. Filtering rows where AwayTeam is 'Liverpool' and HomeGoals are greater than 1, selecting only the Round and HomeGoals columns\n",
    "\n",
    "# 3. Selecting rows where the Round is either 3 or 7 and selecting HomeTeam, AwayTeam, and Round columns\n",
    "\n",
    "# 4. Filtering rows where the total goals (HomeGoals + AwayGoals) are equal to 3 and selecting the HomeTeam column\n",
    "\n",
    "# 5. Filtering rows where HomeTeam is 'Arsenal' and AwayGoals are even, selecting the AwayTeam and AwayGoals columns\n"
   ]
  },
  {
   "cell_type": "code",
   "execution_count": null,
   "metadata": {},
   "outputs": [],
   "source": []
  },
  {
   "cell_type": "code",
   "execution_count": null,
   "metadata": {},
   "outputs": [],
   "source": []
  },
  {
   "cell_type": "code",
   "execution_count": null,
   "metadata": {},
   "outputs": [],
   "source": [
    "# 1. Filtering rows where HomeGoals are greater than AwayGoals and selecting HomeTeam and AwayTeam columns\n",
    "filtered_df14 = match_results_df.loc[match_results_df['HomeGoals'] > match_results_df['AwayGoals'], ['HomeTeam', 'AwayTeam']]\n",
    "\n",
    "# 2. Filtering rows where AwayTeam is 'Liverpool' and HomeGoals are greater than 1, selecting only the Round and HomeGoals columns\n",
    "filtered_df15 = match_results_df.loc[(match_results_df['AwayTeam'] == 'Liverpool') & (match_results_df['HomeGoals'] > 1), ['Round', 'HomeGoals']]\n",
    "\n",
    "# 3. Selecting rows where the Round is either 3 or 7 and selecting HomeTeam, AwayTeam, and Round columns\n",
    "filtered_df16 = match_results_df.loc[match_results_df['Round'].isin([3, 7]), ['HomeTeam', 'AwayTeam', 'Round']]\n",
    "\n",
    "# 4. Filtering rows where the total goals (HomeGoals + AwayGoals) are equal to 3 and selecting the HomeTeam column\n",
    "filtered_df17 = match_results_df.loc[(match_results_df['HomeGoals'] + match_results_df['AwayGoals']) == 3, ['HomeTeam']]\n",
    "\n",
    "# 5. Filtering rows where HomeTeam is 'Arsenal' and AwayGoals are even, selecting the AwayTeam and AwayGoals columns\n",
    "filtered_df18 = match_results_df.loc[(match_results_df['HomeTeam'] == 'Arsenal') & (match_results_df['AwayGoals'] % 2 == 0), ['AwayTeam', 'AwayGoals']]\n"
   ]
  },
  {
   "cell_type": "code",
   "execution_count": null,
   "metadata": {},
   "outputs": [],
   "source": [
    "# 1. Creating a new column 'TotalGoals' which is the sum of HomeGoals and AwayGoals\n",
    "\n",
    "# 2. Creating a new column 'Result' which will contain 'Home Win', 'Away Win', or 'Draw' based on the goals\n",
    "\n",
    "\n",
    "# 3. Creating a new column 'IsHighScoring' to denote if the total goals in the match are 5 or more\n",
    "\n",
    "# 4. Creating a new column 'LiverpoolPlayed' to indicate whether Liverpool played in the match\n",
    "\n",
    "# 5. Creating a column 'GoalDifference' to store the absolute difference between HomeGoals and AwayGoals\n",
    "\n",
    "# 6. Creating a column 'ArsenalHomeMatch' to indicate if Arsenal is playing at home\n"
   ]
  },
  {
   "cell_type": "code",
   "execution_count": null,
   "metadata": {},
   "outputs": [],
   "source": []
  },
  {
   "cell_type": "code",
   "execution_count": null,
   "metadata": {},
   "outputs": [],
   "source": []
  },
  {
   "cell_type": "code",
   "execution_count": null,
   "metadata": {},
   "outputs": [],
   "source": [
    "# 1. Creating a new column 'TotalGoals' which is the sum of HomeGoals and AwayGoals\n",
    "match_results_df['TotalGoals'] = match_results_df['HomeGoals'] + match_results_df['AwayGoals']\n",
    "\n",
    "# 2. Creating a new column 'Result' which will contain 'Home Win', 'Away Win', or 'Draw' based on the goals\n",
    "match_results_df['Result'] = 'Draw'\n",
    "match_results_df.loc[match_results_df['HomeGoals'] > match_results_df['AwayGoals'], 'Result'] = 'Home Win'\n",
    "match_results_df.loc[match_results_df['HomeGoals'] < match_results_df['AwayGoals'], 'Result'] = 'Away Win'\n",
    "\n",
    "# 3. Creating a new column 'IsHighScoring' to denote if the total goals in the match are 5 or more\n",
    "match_results_df['IsHighScoring'] = match_results_df['TotalGoals'] >= 5\n",
    "\n",
    "# 4. Creating a new column 'LiverpoolPlayed' to indicate whether Liverpool played in the match\n",
    "match_results_df['LiverpoolPlayed'] = (match_results_df['HomeTeam'] == 'Liverpool') | (match_results_df['AwayTeam'] == 'Liverpool')\n",
    "\n",
    "# 5. Creating a column 'GoalDifference' to store the absolute difference between HomeGoals and AwayGoals\n",
    "match_results_df['GoalDifference'] = abs(match_results_df['HomeGoals'] - match_results_df['AwayGoals'])\n",
    "\n",
    "# 6. Creating a column 'ArsenalHomeMatch' to indicate if Arsenal is playing at home\n",
    "match_results_df['ArsenalHomeMatch'] = match_results_df['HomeTeam'] == 'Arsenal'"
   ]
  },
  {
   "cell_type": "code",
   "execution_count": null,
   "metadata": {},
   "outputs": [],
   "source": [
    "# Using other Pandas filtering tools\n",
    "\n",
    "# Find matches where HomeTeam is 'Arsenal' and HomeGoals > 1\n",
    "filtered_df = match_results_df[(match_results_df['HomeTeam'] == 'Arsenal') & (match_results_df['HomeGoals'] > 1)]\n",
    "# print('Matches where HomeTeam is Arsenal and HomeGoals > 1:\\n', filtered_df)\n",
    "\n",
    "\n",
    "# Using .isin() to filter rows where HomeTeam is either 'Arsenal' or 'Chelsea'\n",
    "filtered_df = match_results_df[match_results_df['HomeTeam'].isin(['Arsenal', 'Chelsea'])]\n",
    "# print('Matches where HomeTeam is either Arsenal or Chelsea:\\n', filtered_df)"
   ]
  },
  {
   "cell_type": "code",
   "execution_count": 1,
   "metadata": {},
   "outputs": [],
   "source": [
    "# Lets read in the player stats.json\n",
    "\n",
    "player_stats = pd.read_json('player_stats.json')"
   ]
  },
  {
   "cell_type": "code",
   "execution_count": null,
   "metadata": {},
   "outputs": [],
   "source": [
    "## Print out the head of the dataframe\n",
    "# What does your data look like?\n",
    "\n",
    "# How many players do we have data for?\n",
    "\n",
    "# How many unique team names do we have?\n",
    "\n",
    "# What is the average number of goals per player?\n",
    "\n",
    "# What is the average number of goals per team?\n",
    "\n",
    "# Let's look at a distribution of goals per team\n",
    "\n",
    "# How can we look at a distribution of goals per position?"
   ]
  }
 ],
 "metadata": {
  "kernelspec": {
   "display_name": "Python 3 (ipykernel)",
   "language": "python",
   "name": "python3"
  },
  "language_info": {
   "codemirror_mode": {
    "name": "ipython",
    "version": 3
   },
   "file_extension": ".py",
   "mimetype": "text/x-python",
   "name": "python",
   "nbconvert_exporter": "python",
   "pygments_lexer": "ipython3",
   "version": "3.11.5"
  }
 },
 "nbformat": 4,
 "nbformat_minor": 4
}
