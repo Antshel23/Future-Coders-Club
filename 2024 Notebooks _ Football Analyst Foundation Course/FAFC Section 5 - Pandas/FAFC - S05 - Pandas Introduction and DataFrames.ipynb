{
 "cells": [
  {
   "cell_type": "markdown",
   "id": "d837906d",
   "metadata": {},
   "source": [
    "## Comprehensive Guide to Pandas\n",
    "This notebook combines insights and tutorials from multiple sources to provide a comprehensive introduction to Pandas, covering everything from basic data structures like Series and DataFrames to advanced data manipulation techniques."
   ]
  },
  {
   "cell_type": "markdown",
   "id": "7e5007e7",
   "metadata": {},
   "source": [
    "### Introduction to Pandas and DataFrame Types\n",
    "Pandas is a powerful library for data analysis in Python, offering a wide array of functions for data manipulation, cleaning, analysis, and visualization. At its core are two primary data structures: Series and DataFrames."
   ]
  },
  {
   "cell_type": "markdown",
   "id": "43e1e225",
   "metadata": {},
   "source": [
    "## Understanding Series and DataFrames\n",
    "A Series is a one-dimensional array-like structure, while a DataFrame is a two-dimensional table-like structure. Both can hold data of multiple types."
   ]
  },
  {
   "cell_type": "markdown",
   "id": "207f5b3e",
   "metadata": {},
   "source": [
    "## Data Indexing and Selection\n",
    "Pandas provides multiple methods for indexing and selecting data, ranging from basic techniques like using labels or integer-based indexing to advanced methods involving conditional selection."
   ]
  },
  {
   "cell_type": "markdown",
   "id": "0baa9423",
   "metadata": {},
   "source": [
    "## Data Aggregation and Grouping\n",
    "Aggregating and grouping data are powerful techniques for summarizing data sets, enabling complex analyses such as computing groupwise averages, sums, or other statistics."
   ]
  },
  {
   "cell_type": "code",
   "execution_count": null,
   "id": "930398c9",
   "metadata": {},
   "outputs": [],
   "source": [
    "# Import Pandas\n",
    "import pandas as pd"
   ]
  },
  {
   "cell_type": "code",
   "execution_count": null,
   "id": "cd326563",
   "metadata": {},
   "outputs": [],
   "source": [
    "# Example of creating a DataFrame\n",
    "df = pd.DataFrame({'A': [1, 2, 3], 'B': [4, 5, 6]})\n",
    "print(df)"
   ]
  },
  {
   "cell_type": "code",
   "execution_count": null,
   "id": "3d6d042d",
   "metadata": {},
   "outputs": [],
   "source": [
    "# Basic Data Indexing Example\n",
    "df['A']"
   ]
  },
  {
   "cell_type": "code",
   "execution_count": null,
   "id": "d0e7d2db",
   "metadata": {},
   "outputs": [],
   "source": [
    "# Data Aggregation Example\n",
    "df.groupby('A').sum()"
   ]
  }
 ],
 "metadata": {},
 "nbformat": 4,
 "nbformat_minor": 5
}
