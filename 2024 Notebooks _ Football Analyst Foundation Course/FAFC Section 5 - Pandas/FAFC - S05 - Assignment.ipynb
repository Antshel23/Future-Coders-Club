{
 "cells": [
  {
   "cell_type": "markdown",
   "metadata": {},
   "source": [
    "## Week 5 Assignment Instructions:\n",
    "- Give your answer to each numbered bullet in a new cell\n",
    "- Remember to have your file and your notebook in the same folder!\n",
    "\n",
    "1. Download and read in the 'match_results.csv' file\n",
    "2. Return just the first five rows of the dataframe\n",
    "3. Get just the column 'AwayTeam'\n",
    "    a. What is the data type of this column?\n",
    "    b. How do we get a dataframe for a single column?\n",
    "4. Get the HomeTeam and AwayTeam names for rows 10 - 15\n",
    "5. Get rows 7-12 and columns 1-2\n",
    "6. Get elements 45 - 50 of column 'HomeTeam'\n",
    "7. Describe the data using .describe()\n",
    "8. Get the sum of count played by each HomeTeam\n",
    "9. Get the unique number of rounds played in 'Round'\n",
    "10. Get the number of unique games per round\n",
    "11. Get the average number of HomeGoals and AwayGoals by Round\n",
    "12. Get the median number of HomeGoals by HomeTeam"
   ]
  }
 ],
 "metadata": {
  "kernelspec": {
   "display_name": "Python 3 (ipykernel)",
   "language": "python",
   "name": "python3"
  },
  "language_info": {
   "codemirror_mode": {
    "name": "ipython",
    "version": 3
   },
   "file_extension": ".py",
   "mimetype": "text/x-python",
   "name": "python",
   "nbconvert_exporter": "python",
   "pygments_lexer": "ipython3",
   "version": "3.11.5"
  }
 },
 "nbformat": 4,
 "nbformat_minor": 2
}
