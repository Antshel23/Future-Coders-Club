{
 "cells": [
  {
   "cell_type": "code",
   "execution_count": null,
   "metadata": {},
   "outputs": [],
   "source": [
    "import pandas as pd\n",
    "import numpy as np\n",
    "import matplotlib as plt\n",
    "from statsbombpy import sb\n",
    "pd.set_option('display.max_rows', 500)\n",
    "pd.set_option('display.max_columns', 150)"
   ]
  },
  {
   "cell_type": "markdown",
   "metadata": {},
   "source": [
    "# Statsbombpy package"
   ]
  },
  {
   "cell_type": "code",
   "execution_count": null,
   "metadata": {},
   "outputs": [],
   "source": [
    "# Load competition data\n",
    "competitions = sb.competitions()\n",
    "print(\"Available competitions:\")\n",
    "print(competitions)\n"
   ]
  },
  {
   "cell_type": "code",
   "execution_count": null,
   "metadata": {},
   "outputs": [],
   "source": [
    "competitions.sort_values(by=['competition_name', 'season_name'], ascending=False).head(10)"
   ]
  },
  {
   "cell_type": "code",
   "execution_count": null,
   "metadata": {},
   "outputs": [],
   "source": [
    "# Get information about a specific competition\n",
    "competition_id = 43  # 43 represents the FIFA World Cup 2018\n",
    "competition_info = competitions.loc[competition_id]\n",
    "print(f\"\\nInformation about competition {competition_info['competition_name']}:\")\n",
    "print(f\"Country: {competition_info['country_name']}\")\n",
    "print(f\"Gender: {competition_info['competition_gender']}\")\n",
    "print(f\"Season: {competition_info['season_name']}\")\n"
   ]
  },
  {
   "cell_type": "code",
   "execution_count": null,
   "metadata": {},
   "outputs": [],
   "source": [
    "def transformSeason(seasonRow):\n",
    "    '''We are assuming each value we pass into this function will be 1 value from competitions['season_name']'''\n",
    "    slashLocation = seasonRow.find('/')\n",
    "    if slashLocation == -1:\n",
    "        return seasonRow\n",
    "    else:\n",
    "        return seasonRow[:slashLocation]\n",
    "\n",
    "testS = competitions['season_name'].iloc[1]\n",
    "testS\n",
    "transformSeason(testS)"
   ]
  },
  {
   "cell_type": "code",
   "execution_count": null,
   "metadata": {},
   "outputs": [],
   "source": [
    "# I want to find the number of unique seasons of data available for England -- how would I do that?\n",
    "competitions[competitions.country_name == 'England'].shape\n",
    "competitions[competitions.country_name == 'England'].season_id.nunique()\n",
    "\n",
    "\n",
    "# I want to find all seasons between 1989 and 2000 -- how would I do that?\n",
    "competitions['startOfSeason'] = competitions['season_name'].map(transformSeason)\n",
    "# competitions['startOfSeason'] = competitions['season_name'].map(lambda x: transformSeason(x)) #### THIS IS SAME AS ABOVE\n"
   ]
  },
  {
   "cell_type": "code",
   "execution_count": null,
   "metadata": {},
   "outputs": [],
   "source": [
    "# competitions[(competitions['startOfSeason'] > '1989') & (competitions['startOfSeason'] < '2000')]"
   ]
  },
  {
   "cell_type": "code",
   "execution_count": null,
   "metadata": {
    "scrolled": true
   },
   "outputs": [],
   "source": [
    "competitions[(competitions['startOfSeason'] > '2016')]"
   ]
  },
  {
   "cell_type": "code",
   "execution_count": null,
   "metadata": {},
   "outputs": [],
   "source": [
    "\n",
    "# Load match data for the selected competition and season\n",
    "competition_id = 11\n",
    "season_id = 4 \n",
    "matches = sb.matches(competition_id, season_id)\n",
    "print(f\"\\nNumber of matches in the {competitions.loc[competitions.competition_id == competition_id, \n",
    "                                    'competition_name'].iloc[0]} {season_id}: {len(matches)}\")\n"
   ]
  },
  {
   "cell_type": "code",
   "execution_count": null,
   "metadata": {},
   "outputs": [],
   "source": [
    "matches.head()"
   ]
  },
  {
   "cell_type": "code",
   "execution_count": null,
   "metadata": {},
   "outputs": [],
   "source": [
    "matches['abs_goal_diff'] = (matches['home_score'] - matches['away_score']).abs()"
   ]
  },
  {
   "cell_type": "code",
   "execution_count": null,
   "metadata": {},
   "outputs": [],
   "source": [
    "matches.sort_values(by='abs_goal_diff', ascending=False)"
   ]
  },
  {
   "cell_type": "code",
   "execution_count": null,
   "metadata": {
    "scrolled": true
   },
   "outputs": [],
   "source": [
    "# # how many total goals at home did each time score?\n",
    "# matches.groupby(['home_team'])['home_score'].sum()\n",
    "# # matches.groupby(['away_team'])['away_score'].sum()"
   ]
  },
  {
   "cell_type": "code",
   "execution_count": null,
   "metadata": {},
   "outputs": [],
   "source": [
    "# Get information about a specific match\n",
    "match_id = 15973\n",
    "match_info = matches.loc[matches['match_id'] == match_id].iloc[0]\n",
    "print(f\"\\nInformation about match {match_id}:\")\n",
    "print(f\"Home team: {match_info['home_team']}\")\n",
    "print(f\"Away team: {match_info['away_team']}\")\n",
    "print(f\"Match date: {match_info['match_date']}\")\n",
    "print(f\"Stadium: {match_info['stadium']}\")"
   ]
  },
  {
   "cell_type": "code",
   "execution_count": null,
   "metadata": {},
   "outputs": [],
   "source": [
    "matches.head()"
   ]
  },
  {
   "cell_type": "code",
   "execution_count": null,
   "metadata": {},
   "outputs": [],
   "source": [
    "# 21/4/2024\n",
    "\n",
    "# Today, we want to analyze a larger cross-section of team data... first we need to build it up\n",
    "\n",
    "# Loop thru the set of matches, find all matches where Barcelona played\n",
    "# Grab the events for each of those matches, process and filter for just the shots"
   ]
  },
  {
   "cell_type": "code",
   "execution_count": null,
   "metadata": {
    "scrolled": true
   },
   "outputs": [],
   "source": [
    "listOfBarcaMatches = matches[(matches.home_team == 'Barcelona') | (matches.away_team == 'Barcelona')].match_id.values\n",
    "listOfShotDFs = []\n",
    "for matchIDValue in listOfBarcaMatches:\n",
    "    events = sb.events(matchIDValue)\n",
    "    data = getCleanedProcessedShotData(events)\n",
    "    listOfShotDFs.append(data)\n",
    "    "
   ]
  },
  {
   "cell_type": "code",
   "execution_count": null,
   "metadata": {},
   "outputs": [],
   "source": [
    "def getCleanedProcessedShotData(eventData):\n",
    "    '''This function takes in event data and outputs just the cleaned type==shot data'''\n",
    "    event_type = 'Shot'\n",
    "    eventTypeData = eventData[eventData['type'] == event_type]\n",
    "    return eventTypeData.dropna(axis=1)"
   ]
  },
  {
   "cell_type": "code",
   "execution_count": null,
   "metadata": {},
   "outputs": [],
   "source": [
    "fullShotDF = pd.concat(listOfShotDFs, axis=0)"
   ]
  },
  {
   "cell_type": "code",
   "execution_count": null,
   "metadata": {
    "scrolled": true
   },
   "outputs": [],
   "source": [
    "barcaShotDF = fullShotDF[fullShotDF.possession_team == 'Barcelona']"
   ]
  },
  {
   "cell_type": "code",
   "execution_count": null,
   "metadata": {},
   "outputs": [],
   "source": [
    "barcaShotDF.head()"
   ]
  },
  {
   "cell_type": "code",
   "execution_count": null,
   "metadata": {},
   "outputs": [],
   "source": [
    "barcaShotDF.shot_outcome.value_counts()"
   ]
  },
  {
   "cell_type": "code",
   "execution_count": null,
   "metadata": {},
   "outputs": [],
   "source": [
    "singlePlayerShots = barcaShotDF[barcaShotDF.player == 'Gerard Piqué Bernabéu']"
   ]
  },
  {
   "cell_type": "code",
   "execution_count": null,
   "metadata": {},
   "outputs": [],
   "source": [
    "def calcGoalsScoredRatio(shotOutcomeSeries):\n",
    "    '''This function takes a pd.Series of a \"shot_outcome\" column and outputs the ratio of goals scored\n",
    "    e.g. shotOutcomeSeries --> This equals eventsData.shot_outcome '''\n",
    "    return ( (shotOutcomeSeries == 'Goal').sum() / (shotOutcomeSeries.count()) ).round(3)"
   ]
  },
  {
   "cell_type": "code",
   "execution_count": null,
   "metadata": {},
   "outputs": [],
   "source": [
    "def calcOutcomeRatio(dataframe, outcomeValue='Goal'):\n",
    "    '''This function takes in a DATAFRAME, and a shot outcome value we are trying to find the ratio for'''\n",
    "    return ( (dataframe.shot_outcome == outcomeValue).sum() / (dataframe.shot_outcome.count())).round(3)"
   ]
  },
  {
   "cell_type": "code",
   "execution_count": null,
   "metadata": {},
   "outputs": [],
   "source": [
    "print(calcGoalsScoredRatio(singlePlayerShots.shot_outcome))\n",
    "calcOutcomeRatio(singlePlayerShots)"
   ]
  },
  {
   "cell_type": "code",
   "execution_count": null,
   "metadata": {},
   "outputs": [],
   "source": [
    "barcaShotDF.groupby(['player'])['shot_outcome'].count()"
   ]
  },
  {
   "cell_type": "code",
   "execution_count": null,
   "metadata": {},
   "outputs": [],
   "source": [
    "### Which shot_technique has the most success in goals scored ratio\n",
    "# display(pd.DataFrame(barcaShotDF.groupby(['shot_technique']).apply(lambda x: calcOutcomeRatio(x)).sort_values(ascending=False)).head(10))\n",
    "\n",
    "\n",
    "# ### Which player hits Off the T the most?\n",
    "# display(pd.DataFrame(barcaShotDF.groupby(['player']).apply(lambda x: calcOutcomeRatio(x, outcomeValue = 'Off T')).sort_values(ascending=False)).head(15))\n",
    "\n",
    "\n",
    "### Which player has the highest goals scored ratio per body part?\n",
    "display(pd.DataFrame(barcaShotDF.groupby(['player','shot_body_part']).apply(lambda x: calcOutcomeRatio(x)).sort_values(ascending=False)))"
   ]
  },
  {
   "cell_type": "code",
   "execution_count": null,
   "metadata": {},
   "outputs": [],
   "source": []
  },
  {
   "cell_type": "code",
   "execution_count": null,
   "metadata": {},
   "outputs": [],
   "source": [
    "#### EXERCISES FOR 21/4/2024\n",
    "\n",
    "## First, generate data for each team in the 2018/2019 season and calculated their goals scored ratio\n",
    "## Also, generate a top-3 player by goals scored ratio per team \n",
    "# (filter to only include players who have shot at least the average number of shot_attempts for the team for the season)\n",
    "# i.e. you need to take the total number of shot attempts per player per match, then take the AVERAGE across all of those for the season\n",
    "\n",
    "## Which team scores the most in the first 15 minutes of play?\n",
    "## BONUS: how does this change throughout the season?\n",
    "### BONUS BONUS: Can you plot this across time?\n",
    "\n",
    "## What is the highest goal scoring ratio technique for each team? What is that value?\n",
    "\n",
    "## For all games where Real Sociedad played, who were top goal scorers for them? What was the outcome of the games?\n",
    "\n"
   ]
  },
  {
   "cell_type": "code",
   "execution_count": null,
   "metadata": {},
   "outputs": [],
   "source": []
  },
  {
   "cell_type": "code",
   "execution_count": null,
   "metadata": {},
   "outputs": [],
   "source": [
    "# Load event data for the selected match\n",
    "events = sb.events(match_id)\n",
    "print(f\"\\nNumber of events in match {match_id}: {len(events)}\")\n"
   ]
  },
  {
   "cell_type": "code",
   "execution_count": null,
   "metadata": {
    "scrolled": true
   },
   "outputs": [],
   "source": [
    "events.head()"
   ]
  },
  {
   "cell_type": "code",
   "execution_count": null,
   "metadata": {
    "scrolled": true
   },
   "outputs": [],
   "source": [
    "events[events.type == 'Carry'].dropna(axis=1).head()"
   ]
  },
  {
   "cell_type": "code",
   "execution_count": null,
   "metadata": {
    "scrolled": true
   },
   "outputs": [],
   "source": [
    "# Analyze event types\n",
    "event_types = events['type'].value_counts()\n",
    "print(f\"\\nEvent types and their counts:\")\n",
    "print(event_types)\n"
   ]
  },
  {
   "cell_type": "code",
   "execution_count": null,
   "metadata": {
    "scrolled": true
   },
   "outputs": [],
   "source": [
    "# Get information about a specific event type\n",
    "event_type = 'Shot'\n",
    "shots = events[events['type'] == event_type]\n",
    "print(f\"\\nNumber of {event_type} events: {len(shots)}\")\n",
    "# print(f\"Columns available for {event_type} events:\")\n",
    "print(shots.columns)\n",
    "\n",
    "cleanShots = shots.dropna(axis=1)\n",
    "print(f\"Columns available for {event_type} events:\")\n",
    "print(cleanShots.columns)"
   ]
  },
  {
   "cell_type": "code",
   "execution_count": null,
   "metadata": {
    "scrolled": true
   },
   "outputs": [],
   "source": [
    "cleanShots"
   ]
  },
  {
   "cell_type": "code",
   "execution_count": null,
   "metadata": {},
   "outputs": [],
   "source": [
    "cleanShots.shot_outcome.unique()"
   ]
  },
  {
   "cell_type": "code",
   "execution_count": null,
   "metadata": {},
   "outputs": [],
   "source": [
    "pd.DataFrame(cleanShots.groupby(['possession_team', 'play_pattern']).apply(lambda x: (x.shot_outcome == 'Goal').sum()))"
   ]
  },
  {
   "cell_type": "code",
   "execution_count": null,
   "metadata": {},
   "outputs": [],
   "source": [
    "pd.DataFrame(cleanShots.groupby(['possession_team', 'play_pattern']).apply(lambda x: (x.shot_outcome == 'Goal').sum())).unstack(level=0)"
   ]
  },
  {
   "cell_type": "code",
   "execution_count": null,
   "metadata": {},
   "outputs": [],
   "source": [
    "# What play pattern is Barcelona most likely to score from?\n",
    "\n",
    "\n",
    "\n",
    "# Which positions are most likely to score/have a shot on goal?\n",
    "\n",
    "# Where are these shots made from? --> Bit later question...."
   ]
  },
  {
   "cell_type": "code",
   "execution_count": null,
   "metadata": {},
   "outputs": [],
   "source": [
    "def pullShotDataForMatchId(matchIdValue):\n",
    "    events = sb.events(matchIdValue)\n",
    "    event_type = 'Shot'\n",
    "    shots = events[events['type'] == event_type]\n",
    "    cleanShots = shots.dropna(axis=1)\n",
    "    return cleanShots"
   ]
  },
  {
   "cell_type": "code",
   "execution_count": null,
   "metadata": {
    "scrolled": true
   },
   "outputs": [],
   "source": [
    "## Let's get all of the shot events from Barcelona for this La Liga season\n",
    "barcelonaMatchIds = matches.loc[(matches.away_team == 'Barcelona') | (matches.home_team == 'Barcelona'), 'match_id']\n",
    "rawListDF = []\n",
    "for currBarcaMatchID in barcelonaMatchIds:\n",
    "    curr_df = pullShotDataForMatchId(currBarcaMatchID)\n",
    "    rawListDF.append(curr_df)\n",
    "    \n"
   ]
  },
  {
   "cell_type": "code",
   "execution_count": null,
   "metadata": {},
   "outputs": [],
   "source": [
    "fullShotDF_Barca = pd.concat(rawListDF)"
   ]
  },
  {
   "cell_type": "code",
   "execution_count": null,
   "metadata": {},
   "outputs": [],
   "source": [
    "fullShotDF_Barca.match_id.nunique()"
   ]
  },
  {
   "cell_type": "code",
   "execution_count": null,
   "metadata": {},
   "outputs": [],
   "source": [
    "pd.DataFrame(fullShotDF_Barca[fullShotDF_Barca.possession_team == 'Barcelona'].groupby(['play_pattern']).apply(lambda x: (x.shot_outcome == 'Goal').sum()))"
   ]
  },
  {
   "cell_type": "code",
   "execution_count": null,
   "metadata": {},
   "outputs": [],
   "source": []
  },
  {
   "cell_type": "code",
   "execution_count": null,
   "metadata": {},
   "outputs": [],
   "source": [
    "# Analyze shot outcomes\n",
    "shot_outcomes = shots['shot_outcome'].value_counts()\n",
    "print(f\"\\nShot outcomes and their counts:\")\n",
    "print(shot_outcomes)\n"
   ]
  },
  {
   "cell_type": "code",
   "execution_count": null,
   "metadata": {},
   "outputs": [],
   "source": [
    "# Load lineup data for the selected match\n",
    "lineup = sb.lineups(match_id)\n",
    "print(f\"\\nNumber of players in the lineup for match {match_id}: {len(lineup)}\")\n"
   ]
  },
  {
   "cell_type": "code",
   "execution_count": null,
   "metadata": {},
   "outputs": [],
   "source": [
    "# Get information about a specific player\n",
    "team_name = 'England'  # Select the team\n",
    "player_info = lineup[team_name]  # Get the DataFrame for the selected team\n",
    "print(f\"\\nNumber of players in the lineup for {team_name}: {len(player_info)}\")\n",
    "\n",
    "# Get information about a specific player\n",
    "player_index = 0  # Select the index of the player within the team\n",
    "player_info = player_info.iloc[player_index]\n",
    "print(f\"\\nInformation about player {player_info['player_name']}:\")\n",
    "print(f\"Player ID: {player_info['player_id']}\")\n",
    "print(f\"Jersey number: {player_info['jersey_number']}\")\n",
    "print(f\"Country: {player_info['country']}\")\n",
    "print(f\"Positions:\")\n",
    "for position in player_info['positions']:\n",
    "    print(f\"- {position['position']}\")"
   ]
  },
  {
   "cell_type": "code",
   "execution_count": null,
   "metadata": {},
   "outputs": [],
   "source": [
    "# Analyze events for a specific player\n",
    "player_id = player_info['player_id']\n",
    "player_events = events[events['player'] == player_info['player_name']]\n",
    "print(f\"\\nNumber of events for player {player_info['player_name']}: {len(player_events)}\")\n",
    "player_event_types = player_events['type'].value_counts()\n",
    "print(f\"\\nEvent types and their counts for player {player_info['player_name']}:\")\n",
    "print(player_event_types)"
   ]
  },
  {
   "cell_type": "markdown",
   "metadata": {},
   "source": [
    "# Matplotlib"
   ]
  },
  {
   "cell_type": "markdown",
   "metadata": {},
   "source": [
    "#### Matplotlib is a plotting library for Python that allows you to create a wide range of static, animated, and interactive visualizations."
   ]
  },
  {
   "cell_type": "code",
   "execution_count": null,
   "metadata": {},
   "outputs": [],
   "source": [
    "import matplotlib.pyplot as plt"
   ]
  },
  {
   "cell_type": "code",
   "execution_count": null,
   "metadata": {},
   "outputs": [],
   "source": [
    "# Basic Line Plot\n",
    "print(\"\\nBasic Line Plot\")\n",
    "x = [1, 2, 3, 4, 5]\n",
    "y = [2, 4, 6, 8, 10]\n",
    "\n",
    "plt.plot(x, y)\n",
    "plt.xlabel('X-axis')\n",
    "plt.ylabel('Y-axis')\n",
    "plt.title('Basic Line Plot')\n",
    "plt.show()"
   ]
  },
  {
   "cell_type": "code",
   "execution_count": null,
   "metadata": {},
   "outputs": [],
   "source": [
    "# Scatter Plot\n",
    "print(\"\\nScatter Plot\")\n",
    "x = [1, 2, 3, 4, 5]\n",
    "y = [2, 4, 6, 8, 10]\n",
    "\n",
    "plt.scatter(x, y)\n",
    "plt.xlabel('X-axis')\n",
    "plt.ylabel('Y-axis')\n",
    "plt.title('Scatter Plot')\n",
    "plt.show()\n"
   ]
  },
  {
   "cell_type": "code",
   "execution_count": null,
   "metadata": {},
   "outputs": [],
   "source": [
    "# Bar Plot\n",
    "print(\"\\nBar Plot\")\n",
    "x = ['A', 'B', 'C', 'D', 'E']\n",
    "y = [10, 7, 5, 8, 12]\n",
    "\n",
    "plt.bar(x, y)\n",
    "plt.xlabel('Categories')\n",
    "plt.ylabel('Values')\n",
    "plt.title('Bar Plot')\n",
    "plt.show()"
   ]
  },
  {
   "cell_type": "code",
   "execution_count": null,
   "metadata": {},
   "outputs": [],
   "source": [
    "# Plotting events data\n",
    "print(\"\\nPlotting events data\")\n",
    "player_events = events[events['player'] == player_info['player_name']]\n",
    "player_event_types = player_events['type'].value_counts()\n",
    "\n",
    "plt.figure(figsize=(10, 6))\n",
    "plt.bar(player_event_types.index, player_event_types.values)\n",
    "plt.xlabel('Event Types')\n",
    "plt.ylabel('Count')\n",
    "plt.title(f\"Event Types for Player {player_info['player_name']}\")\n",
    "plt.xticks(rotation=45)\n",
    "plt.show()"
   ]
  },
  {
   "cell_type": "code",
   "execution_count": null,
   "metadata": {},
   "outputs": [],
   "source": [
    "# Filtering events using loc\n",
    "print(\"\\nFiltering events using loc\")\n",
    "shots = events.loc[events['type'] == 'Shot']\n",
    "print(f\"Number of shot events: {len(shots)}\")\n",
    "\n",
    "# Accessing specific columns using iloc\n",
    "print(\"\\nAccessing specific columns using iloc\")\n",
    "shot_locations = shots.iloc[:, shots.columns.get_loc('location')]\n",
    "print(f\"Shot locations:\\n{shot_locations.head()}\")\n",
    "\n",
    "# Grouping events by player and counting\n",
    "print(\"\\nGrouping events by player and counting\")\n",
    "player_event_counts = events.groupby('player')['type'].count()\n",
    "print(f\"Player event counts:\\n{player_event_counts.head()}\")\n"
   ]
  },
  {
   "cell_type": "code",
   "execution_count": null,
   "metadata": {},
   "outputs": [],
   "source": [
    "# Plotting player event counts\n",
    "print(\"\\nPlotting player event counts\")\n",
    "fig, ax = plt.subplots(figsize=(10, 6))\n",
    "player_event_counts.plot(kind='bar', ax=ax)\n",
    "ax.set_xlabel('Player')\n",
    "ax.set_ylabel('Event Count')\n",
    "ax.set_title('Player Event Counts')\n",
    "plt.xticks(rotation=45, ha='right')\n",
    "plt.tight_layout()\n",
    "plt.show()\n"
   ]
  },
  {
   "cell_type": "code",
   "execution_count": null,
   "metadata": {},
   "outputs": [],
   "source": [
    "# Grouping shots by player and outcome\n",
    "print(\"\\nGrouping shots by player and outcome\")\n",
    "shot_outcomes = shots.groupby(['player', 'shot_outcome']).size().unstack()\n",
    "print(f\"Shot outcomes by player:\\n{shot_outcomes.head()}\")"
   ]
  },
  {
   "cell_type": "code",
   "execution_count": null,
   "metadata": {},
   "outputs": [],
   "source": [
    "\n",
    "# Plotting shot outcomes by player\n",
    "print(\"\\nPlotting shot outcomes by player\")\n",
    "fig, ax = plt.subplots(figsize=(10, 6))\n",
    "shot_outcomes.plot(kind='bar', stacked=True, ax=ax)\n",
    "ax.set_xlabel('Player')\n",
    "ax.set_ylabel('Shot Count')\n",
    "ax.set_title('Shot Outcomes by Player')\n",
    "plt.xticks(rotation=45, ha='right')\n",
    "plt.tight_layout()\n",
    "plt.show()"
   ]
  },
  {
   "cell_type": "code",
   "execution_count": null,
   "metadata": {},
   "outputs": [],
   "source": [
    "# Grouping passes by player and recipient\n",
    "print(\"\\nGrouping passes by player and recipient\")\n",
    "pass_combinations = events[events['type'] == 'Pass'].groupby(['player', 'pass_recipient']).size()\n",
    "print(f\"Pass combinations:\\n{pass_combinations.head()}\")\n",
    "\n"
   ]
  },
  {
   "cell_type": "code",
   "execution_count": null,
   "metadata": {},
   "outputs": [],
   "source": [
    "# Aggregating pass combinations\n",
    "print(\"\\nAggregating pass combinations\")\n",
    "pass_combinations_agg = pass_combinations.reset_index()\n",
    "pass_combinations_agg['combination'] = pass_combinations_agg['player'] + ' - ' + pass_combinations_agg['pass_recipient']\n",
    "pass_combinations_agg = pass_combinations_agg.groupby('combination')[0].sum().sort_values(ascending=False)\n",
    "print(f\"Aggregated pass combinations:\\n{pass_combinations_agg.head()}\")"
   ]
  },
  {
   "cell_type": "code",
   "execution_count": null,
   "metadata": {},
   "outputs": [],
   "source": [
    "# Plotting top pass combinations\n",
    "print(\"\\nPlotting top pass combinations\")\n",
    "top_n = 10\n",
    "fig, ax = plt.subplots(figsize=(10, 6))\n",
    "pass_combinations_agg.head(top_n).plot(kind='bar', ax=ax)\n",
    "ax.set_xlabel('Player - Recipient')\n",
    "ax.set_ylabel('Pass Count')\n",
    "ax.set_title(f'Top {top_n} Pass Combinations')\n",
    "plt.xticks(rotation=45, ha='right')\n",
    "plt.tight_layout()\n",
    "plt.show()"
   ]
  },
  {
   "cell_type": "markdown",
   "metadata": {},
   "source": [
    "## Matplotlib - Subplots"
   ]
  },
  {
   "cell_type": "code",
   "execution_count": null,
   "metadata": {},
   "outputs": [],
   "source": [
    "# Extracting relevant data\n",
    "print(\"Extracting relevant data\")\n",
    "shots = events.loc[events['type'] == 'Shot']\n",
    "goals = shots.loc[shots['shot_outcome'] == 'Goal']\n",
    "passes = events.loc[events['type'] == 'Pass']"
   ]
  },
  {
   "cell_type": "code",
   "execution_count": null,
   "metadata": {},
   "outputs": [],
   "source": [
    "# Creating a 2x2 subplot layout\n",
    "fig, axs = plt.subplots(2, 2, figsize=(16, 8))\n",
    "\n",
    "# Subplot 1: Shot and Goal Distribution by Player\n",
    "print(\"\\nPlotting shot and goal distribution by player\")\n",
    "player_shots = shots.groupby('player')['id'].count()\n",
    "player_goals = goals.groupby('player')['id'].count()\n",
    "\n",
    "axs[0, 0].bar(player_shots.index, player_shots.values, alpha=0.7, label='Shots')\n",
    "axs[0, 0].bar(player_goals.index, player_goals.values, alpha=0.7, label='Goals')\n",
    "\n",
    "axs[0, 0].set_xlabel('Player')\n",
    "axs[0, 0].set_ylabel('Count')\n",
    "axs[0, 0].set_title('Shot and Goal Distribution by Player')\n",
    "axs[0, 0].legend()\n",
    "plt.setp(axs[0, 0].get_xticklabels(), rotation=45, ha='right')\n",
    "\n",
    "# Subplot 2: Pass Distribution by Player\n",
    "print(\"\\nPlotting pass distribution by player\")\n",
    "player_passes = passes.groupby('player')['id'].count()\n",
    "\n",
    "axs[0, 1].bar(player_passes.index, player_passes.values, alpha=0.7)\n",
    "\n",
    "axs[0, 1].set_xlabel('Player')\n",
    "axs[0, 1].set_ylabel('Pass Count')\n",
    "axs[0, 1].set_title('Pass Distribution by Player')\n",
    "plt.setp(axs[0, 1].get_xticklabels(), rotation=45, ha='right')\n",
    "\n",
    "# Subplot 3: Pass Accuracy by Player\n",
    "print(\"\\nPlotting pass accuracy by player\")\n",
    "player_pass_accuracy = passes.groupby('player')['pass_outcome'].apply(lambda x: (x == 'Incomplete').mean())\n",
    "\n",
    "axs[1, 0].bar(player_pass_accuracy.index, player_pass_accuracy.values, alpha=0.7)\n",
    "\n",
    "axs[1, 0].set_xlabel('Player')\n",
    "axs[1, 0].set_ylabel('Pass Accuracy')\n",
    "axs[1, 0].set_title('Pass Accuracy by Player')\n",
    "plt.setp(axs[1, 0].get_xticklabels(), rotation=45, ha='right')\n",
    "\n",
    "# Subplot 4: Any additional plot of your choice\n",
    "print(\"\\nPlotting additional plot (placeholder)\")\n",
    "# CHALLANGE for students: Try to think of what else could we add to this subplot\n",
    "\n",
    "plt.tight_layout()\n",
    "plt.show()"
   ]
  },
  {
   "cell_type": "code",
   "execution_count": null,
   "metadata": {},
   "outputs": [],
   "source": []
  },
  {
   "cell_type": "markdown",
   "metadata": {},
   "source": [
    "# MPL Soccer "
   ]
  },
  {
   "cell_type": "code",
   "execution_count": null,
   "metadata": {},
   "outputs": [],
   "source": [
    "from mplsoccer import Pitch, VerticalPitch\n"
   ]
  },
  {
   "cell_type": "code",
   "execution_count": null,
   "metadata": {},
   "outputs": [],
   "source": [
    "# Basic pitch plot\n",
    "print(\"Basic pitch plot\")\n",
    "pitch = Pitch(pitch_type='statsbomb')\n",
    "fig, ax = pitch.draw(figsize=(8, 6))\n",
    "plt.show()"
   ]
  },
  {
   "cell_type": "code",
   "execution_count": null,
   "metadata": {},
   "outputs": [],
   "source": [
    "# Plotting shot locations on the pitch\n",
    "print(\"\\nPlotting shot locations on the pitch\")\n",
    "pitch = Pitch(pitch_type='statsbomb')\n",
    "fig, ax = pitch.draw(figsize=(8, 6))\n",
    "\n",
    "shots = events.loc[events['type'] == 'Shot']\n",
    "shot_locations = shots['location'].tolist()\n",
    "x, y = zip(*shot_locations)\n",
    "\n",
    "pitch.scatter(x, y, alpha=0.7, s=50, color='red', ax=ax)\n",
    "ax.set_title('Shot Locations')\n",
    "plt.show()"
   ]
  },
  {
   "cell_type": "code",
   "execution_count": null,
   "metadata": {},
   "outputs": [],
   "source": [
    "print(\"\\nPlotting goal locations on the pitch\")\n",
    "pitch = Pitch(pitch_type='statsbomb')\n",
    "fig, ax = pitch.draw(figsize=(8, 6))\n",
    "\n",
    "goals = shots[shots['shot_outcome'] == 'Goal']\n",
    "goal_locations = goals['location'].tolist()\n",
    "x, y = zip(*goal_locations)\n",
    "\n",
    "pitch.scatter(x, y, alpha=0.7, s=50, color='green', ax=ax)\n",
    "ax.set_title('Goal Locations')\n",
    "plt.show()"
   ]
  },
  {
   "cell_type": "code",
   "execution_count": null,
   "metadata": {},
   "outputs": [],
   "source": [
    "print(\"\\nPlotting pass start locations on the pitch\")\n",
    "pitch = Pitch(pitch_type='statsbomb')\n",
    "fig, ax = pitch.draw(figsize=(8, 6))\n",
    "\n",
    "passes = events.loc[events['type'] == 'Pass']\n",
    "pass_start_locations = passes['location'].tolist()\n",
    "x, y = zip(*pass_start_locations)\n",
    "\n",
    "pitch.scatter(x, y, alpha=0.7, s=50, color='blue', ax=ax)\n",
    "ax.set_title('Pass Start Locations')\n",
    "plt.show()"
   ]
  },
  {
   "cell_type": "code",
   "execution_count": null,
   "metadata": {},
   "outputs": [],
   "source": [
    "print(\"\\nPlotting pass map with arrows\")\n",
    "pitch = Pitch(pitch_type='statsbomb')\n",
    "fig, ax = pitch.draw(figsize=(10, 7))\n",
    "\n",
    "passes = events.loc[events['type'] == 'Pass']\n",
    "pass_starts = passes['location'].dropna().tolist()\n",
    "pass_ends = passes['pass_end_location'].dropna().tolist()\n",
    "\n",
    "start_x, start_y = zip(*pass_starts)\n",
    "end_x, end_y = zip(*pass_ends)\n",
    "\n",
    "pitch.arrows(start_x, start_y, end_x, end_y, width=2, headwidth=3, headlength=3, color='black', ax=ax, alpha=0.5)\n",
    "ax.set_title('Pass Map with Arrows')\n",
    "plt.show()\n"
   ]
  }
 ],
 "metadata": {
  "kernelspec": {
   "display_name": "Python 3 (ipykernel)",
   "language": "python",
   "name": "python3"
  },
  "language_info": {
   "codemirror_mode": {
    "name": "ipython",
    "version": 3
   },
   "file_extension": ".py",
   "mimetype": "text/x-python",
   "name": "python",
   "nbconvert_exporter": "python",
   "pygments_lexer": "ipython3",
   "version": "3.11.4"
  }
 },
 "nbformat": 4,
 "nbformat_minor": 4
}
