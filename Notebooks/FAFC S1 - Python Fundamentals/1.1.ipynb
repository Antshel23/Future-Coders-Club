{
 "cells": [
  {
   "cell_type": "markdown",
   "id": "2891f7d7-0dd1-44b9-b116-291b3f97b98a",
   "metadata": {},
   "source": [
    "## Section 1: Python Fundamentals\n",
    "Goals:\n",
    "- Get familiar with the Anaconda enviornment\n",
    "- Understand Python syntax, code layout, variables, basic operators"
   ]
  },
  {
   "cell_type": "code",
   "execution_count": null,
   "id": "7b09092b-820f-4e62-a101-9cc9a3d19253",
   "metadata": {},
   "outputs": [],
   "source": [
    "# Welcome everyone!\n",
    "print('To write comments, you should use # symbol. Comments are important in understanding what your code is doing')\n",
    "print(\"If you want to print text, you can use single quotes or double quotes\")"
   ]
  },
  {
   "cell_type": "code",
   "execution_count": null,
   "id": "e45a83a9-bfb0-406f-9171-529305bee92a",
   "metadata": {},
   "outputs": [],
   "source": [
    "# STUDENT CELL - add a comment below this line, then on following line print your first sentence"
   ]
  },
  {
   "cell_type": "code",
   "execution_count": null,
   "id": "f4b3228c-6bda-486e-addd-45ad28c1d5cf",
   "metadata": {},
   "outputs": [],
   "source": [
    "# Indents are used in Python, so the interpreter understands what blocks of code belong to each other\n",
    "# They often occur after a colon, and return back after the executed part occurs\n",
    "\n",
    "for num in range(5):\n",
    "    print(\"Loop\")"
   ]
  },
  {
   "cell_type": "code",
   "execution_count": null,
   "id": "afa71e44-edcd-4613-9dc2-bfedaa3c302b",
   "metadata": {},
   "outputs": [],
   "source": [
    "x = 1\n",
    "\n",
    "if x == 1:\n",
    "    print(\"x is 1\")\n",
    "elif x == 2:\n",
    "    print(\"x is 2\")\n",
    "else:\n",
    "    print(\"x could be 3\")"
   ]
  },
  {
   "cell_type": "code",
   "execution_count": null,
   "id": "246159d3-b00b-43c0-bbba-6843b6e70729",
   "metadata": {},
   "outputs": [],
   "source": [
    "# Variables are things that hold value. \n",
    "# They can be strings (containing letters), numbers (float or integer), boolean (true or false) or other data types e.g. lists\n",
    "\n",
    "# Declaring numeric variables\n",
    "age_integer = 50\n",
    "age_float = 50.44\n",
    "\n",
    "print(age_integer)\n",
    "print(age_float)"
   ]
  },
  {
   "cell_type": "code",
   "execution_count": null,
   "id": "a1b59e89-115a-4b0d-a854-26ebf8839aea",
   "metadata": {},
   "outputs": [],
   "source": [
    "# CLASS QUESTION CELL - WHAT ARE SOME EXAMPLE NUMERIC VARIABLES IN FOOTBALL ANALYSIS? E.G. xG, minutes played"
   ]
  },
  {
   "cell_type": "code",
   "execution_count": null,
   "id": "fbff99ca-d8fa-4822-ac1d-bca167f3d174",
   "metadata": {},
   "outputs": [],
   "source": [
    "# Declaring string and boolean variables - ALWAYS wrap strings in quotes, ALWAYS capitlaize T or F in boolean\n",
    "\n",
    "name = 'Sam'\n",
    "isTall = False\n",
    "\n",
    "print(name)\n",
    "print(isTall)"
   ]
  },
  {
   "cell_type": "code",
   "execution_count": null,
   "id": "f7efa890-5c31-490f-9d90-e358863f6514",
   "metadata": {},
   "outputs": [],
   "source": [
    "# CLASS QUESTION CELL - WHAT ARE SOME EXAMPLE STRING VARIABLES IN FOOTBALL ANALYSIS? E.G. home_team, referee"
   ]
  },
  {
   "cell_type": "code",
   "execution_count": null,
   "id": "5852da93-8bb6-4bae-894e-cd6afa66698f",
   "metadata": {},
   "outputs": [],
   "source": [
    "# CLASS QUESTION CELL - WHAT ARE SOME EXAMPLE BOOLEAN VARIABLES IN FOOTBALL ANALYSIS? E.G. is_suspended"
   ]
  },
  {
   "cell_type": "code",
   "execution_count": null,
   "id": "b1db1c44-b33b-456b-8784-b7b21b595ac4",
   "metadata": {},
   "outputs": [],
   "source": [
    "# You can print variables and multiple datatypes in a sentence, using print(f\" {} \")\n",
    "\n",
    "print(f\"My name is {name}, I am {age_integer} years old, am I tall? {isTall}!\")"
   ]
  },
  {
   "cell_type": "code",
   "execution_count": null,
   "id": "7a21b0e5-84c7-4667-af25-2f895371e778",
   "metadata": {},
   "outputs": [],
   "source": [
    "# STUDENT CELL - create variables for your name, age, favourite team, and whether you are hungry or not (boolean). Print your results!\n",
    "\n",
    "\n"
   ]
  },
  {
   "cell_type": "code",
   "execution_count": 1,
   "id": "d1dd2f6e-d03a-4291-863e-07722e56774f",
   "metadata": {},
   "outputs": [
    {
     "name": "stdout",
     "output_type": "stream",
     "text": [
      "15\n",
      "-5\n",
      "0.5\n",
      "50\n",
      "False\n",
      "True\n",
      "False\n",
      "True\n"
     ]
    }
   ],
   "source": [
    "# Multiple maths operators exist for addition, subtraction, divison, multiplication, equality, <>\n",
    "x = 5\n",
    "y = 10\n",
    "\n",
    "print(x + y)\n",
    "print(x - y)\n",
    "print(x / y)\n",
    "print(x * y)\n",
    "print(x == y)\n",
    "print(x != y)\n",
    "print(x > y)\n",
    "print(x < y)"
   ]
  },
  {
   "cell_type": "code",
   "execution_count": null,
   "id": "ccfe6850-fc6a-4916-99e8-a169e4b79ece",
   "metadata": {},
   "outputs": [],
   "source": [
    "# STUDENT CELL - calculate the average possession by completing the assignment of empty variable\n",
    "# print the value and also print as an f string\n",
    "\n",
    "match1_possession = 62.9\n",
    "match2_possession = 58.7\n",
    "match3_possession = 49.9\n",
    "\n",
    "average_possession = ?\n",
    "\n",
    "print()\n",
    "print(f\"\")"
   ]
  },
  {
   "cell_type": "code",
   "execution_count": 4,
   "id": "eae53ecd-7176-4e49-a8e2-1f57ee8dd80f",
   "metadata": {},
   "outputs": [
    {
     "name": "stdout",
     "output_type": "stream",
     "text": [
      "Treble Winner: False\n"
     ]
    }
   ],
   "source": [
    "#AND operator\n",
    "\n",
    "league_winner = True\n",
    "cup_winner = False\n",
    "europe_winner = True\n",
    "\n",
    "treble_winner = league_winner and cup_winner and europe_winner\n",
    "print(\"Treble Winner:\", treble_winner)"
   ]
  },
  {
   "cell_type": "code",
   "execution_count": null,
   "id": "6957b8d4-2c6d-4ab4-b43d-fac85c71395b",
   "metadata": {},
   "outputs": [],
   "source": [
    "#OR operator\n",
    "top_4_finish = True\n",
    "national_cup_winner = False\n",
    "\n",
    "qualifies_for_europe = top_4_finish or national_cup_winner\n",
    "print(\"Qualifies for Champions League:\", qualifies_for_europe)"
   ]
  },
  {
   "cell_type": "code",
   "execution_count": 2,
   "id": "83cb3d26-f247-4cee-89c7-5cf314ce2a08",
   "metadata": {},
   "outputs": [
    {
     "name": "stdout",
     "output_type": "stream",
     "text": [
      "Eligible to play: False\n"
     ]
    }
   ],
   "source": [
    "#NOT operator\n",
    "red_card = True\n",
    "eligible_to_play = not red_card\n",
    "\n",
    "print(\"Eligible to play:\", eligible_to_play)"
   ]
  }
 ],
 "metadata": {
  "kernelspec": {
   "display_name": "Python 3 (ipykernel)",
   "language": "python",
   "name": "python3"
  },
  "language_info": {
   "codemirror_mode": {
    "name": "ipython",
    "version": 3
   },
   "file_extension": ".py",
   "mimetype": "text/x-python",
   "name": "python",
   "nbconvert_exporter": "python",
   "pygments_lexer": "ipython3",
   "version": "3.12.1"
  }
 },
 "nbformat": 4,
 "nbformat_minor": 5
}
