{
 "cells": [
  {
   "cell_type": "code",
   "execution_count": 3,
   "id": "4adda19d-d597-4f73-bd96-e8f5c4bc59ce",
   "metadata": {},
   "outputs": [
    {
     "name": "stdout",
     "output_type": "stream",
     "text": [
      "          A         B  C\n",
      "0 -1.394500 -1.025139  x\n",
      "1  0.464833 -0.542720  y\n",
      "2  1.303630 -0.060302  z\n",
      "3 -0.373964  1.628161  a\n",
      "           A          B  C\n",
      "0  19.869036  26.402768  x\n",
      "1  61.416013  36.755497  y\n",
      "2  78.644530  48.492900  z\n",
      "3  40.758362  83.591759  a\n",
      "           A          B  C\n",
      "0  19.869036  26.402768  x\n",
      "1  61.416013  36.755497  y\n",
      "2  78.644530  48.492900  z\n",
      "3  40.758362  83.591759  a\n"
     ]
    }
   ],
   "source": [
    "import pandas as pd\n",
    "import numpy as np\n",
    "from scipy.stats import zscore\n",
    "\n",
    "def z_score_manipulation(df):\n",
    "    df_zscores = df.copy()\n",
    "    df_zscores[df.select_dtypes(include='number').columns] = df.select_dtypes(include='number').apply(zscore)\n",
    "    print(df_zscores)\n",
    "    return df_zscores\n",
    "\n",
    "def sigmoid_manipulation(df):\n",
    "    def sigmoid(x):\n",
    "        return 100 / (1 + np.exp(-x))\n",
    "    \n",
    "    df_sigmoid = df.copy()\n",
    "    df_sigmoid[df.select_dtypes(include='number').columns] = df.select_dtypes(include='number').apply(sigmoid)\n",
    "    print(df_sigmoid)\n",
    "    return df_sigmoid\n",
    "\n",
    "\n",
    "data = {\n",
    "    'A': [121, 254, 314, 194],\n",
    "    'B': [5.5, 6.5, 7.5, 11],\n",
    "    'C': ['x', 'y', 'z', 'a']\n",
    "}\n",
    "\n",
    "df = pd.DataFrame(data)\n",
    "\n",
    "print(sigmoid_manipulation(z_score_manipulation(df)))"
   ]
  },
  {
   "cell_type": "code",
   "execution_count": null,
   "id": "bd8ae772-5d33-4c96-b0fc-212d96eb09db",
   "metadata": {},
   "outputs": [],
   "source": []
  }
 ],
 "metadata": {
  "kernelspec": {
   "display_name": "Python 3 (ipykernel)",
   "language": "python",
   "name": "python3"
  },
  "language_info": {
   "codemirror_mode": {
    "name": "ipython",
    "version": 3
   },
   "file_extension": ".py",
   "mimetype": "text/x-python",
   "name": "python",
   "nbconvert_exporter": "python",
   "pygments_lexer": "ipython3",
   "version": "3.12.1"
  }
 },
 "nbformat": 4,
 "nbformat_minor": 5
}
