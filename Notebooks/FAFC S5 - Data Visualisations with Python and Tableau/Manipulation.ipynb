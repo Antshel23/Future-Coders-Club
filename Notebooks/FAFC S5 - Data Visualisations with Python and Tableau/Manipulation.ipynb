{
 "cells": [
  {
   "cell_type": "code",
   "execution_count": null,
   "id": "4adda19d-d597-4f73-bd96-e8f5c4bc59ce",
   "metadata": {},
   "outputs": [],
   "source": [
    "import pandas as pd\n",
    "import numpy as np\n",
    "from scipy.stats import zscore\n",
    "\n",
    "def z_score_manipulation(df):\n",
    "    df_zscores = df.copy()\n",
    "    df_zscores[df.select_dtypes(include='number').columns] = df.select_dtypes(include='number').apply(zscore)\n",
    "    print(df_zscores)\n",
    "    return df_zscores\n",
    "\n",
    "def sigmoid_manipulation(df):\n",
    "    def sigmoid(x):\n",
    "        return 100 / (1 + np.exp(-x))\n",
    "    \n",
    "    df_sigmoid = df.copy()\n",
    "    df_sigmoid[df.select_dtypes(include='number').columns] = df.select_dtypes(include='number').apply(sigmoid)\n",
    "    return df_sigmoid\n",
    "\n",
    "\n",
    "data = {\n",
    "    'A': [121, 254, 314, 194],\n",
    "    'B': [5.5, 6.5, 7.5, 11],\n",
    "    'C': ['x', 'y', 'z', 'a']\n",
    "}\n",
    "\n",
    "df = pd.DataFrame(data)\n",
    "\n",
    "print(sigmoid_manipulation(z_score_manipulation(df)))"
   ]
  }
 ],
 "metadata": {
  "kernelspec": {
   "display_name": "Python 3 (ipykernel)",
   "language": "python",
   "name": "python3"
  },
  "language_info": {
   "codemirror_mode": {
    "name": "ipython",
    "version": 3
   },
   "file_extension": ".py",
   "mimetype": "text/x-python",
   "name": "python",
   "nbconvert_exporter": "python",
   "pygments_lexer": "ipython3",
   "version": "3.12.1"
  }
 },
 "nbformat": 4,
 "nbformat_minor": 5
}
