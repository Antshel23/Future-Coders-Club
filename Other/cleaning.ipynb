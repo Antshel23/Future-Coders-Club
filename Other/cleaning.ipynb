{
 "cells": [
  {
   "cell_type": "code",
   "execution_count": null,
   "id": "783130d9-4ae1-4fce-8d41-37ed3a816f6d",
   "metadata": {},
   "outputs": [],
   "source": [
    "import pandas as pd\n",
    "import numpy as np\n",
    "from scipy.stats import zscore\n",
    "\n",
    "# Load your DataFrame first (df)\n",
    "df = pd.read_csv('2425playerdata.csv')\n",
    "\n",
    "# 1. Clean and map position\n",
    "def map_position(pos):\n",
    "    first = pos.split(',')[0].strip()\n",
    "    if first.startswith(('RCB', 'LCB', 'CB', 'RB', 'LB', 'RWB', 'LWB')):\n",
    "        return 'DEF'\n",
    "    elif first.startswith(('LDMF', 'RDMF', 'DMF', 'LAMF', 'RAMF', 'AMF',\n",
    "                           'CMF', 'RCMF', 'LCMF', 'MF', 'LW', 'RW')):\n",
    "        return 'MF'\n",
    "    elif first.startswith(('CF')):\n",
    "        return 'ATT'\n",
    "    else:\n",
    "        return 'MF'\n",
    "\n",
    "df['Position_updated'] = df['Position'].apply(map_position)\n",
    "print(df)\n",
    "\n",
    "# 2. Normalize within position groups\n",
    "def normalize_within_position(df, func):\n",
    "    num_cols = df.select_dtypes(include='number').columns\n",
    "    return df.groupby('Position_updated', group_keys=False).apply(lambda g: func(g)).reset_index(drop=True)\n",
    "\n",
    "# 3. Example usage\n",
    "def sigmoid(x): return 100 / (1 + np.exp(-x))\n",
    "\n",
    "df_normalized = normalize_within_position(df, lambda x: x.assign(**{col: sigmoid(zscore(x[col])) for col in x.select_dtypes(include='number').columns}))"
   ]
  },
  {
   "cell_type": "code",
   "execution_count": null,
   "id": "869231ae-5abe-430f-8530-d2450a346e89",
   "metadata": {},
   "outputs": [],
   "source": [
    "print(df_normalized)"
   ]
  },
  {
   "cell_type": "code",
   "execution_count": null,
   "id": "d7ce52e8-9514-44e6-8c1c-e36deb96af94",
   "metadata": {},
   "outputs": [],
   "source": [
    "df_normalized.to_csv('clean2425playerdata.csv', index=False)"
   ]
  },
  {
   "cell_type": "code",
   "execution_count": null,
   "id": "c3e2bcb3-e35b-47f0-9aab-a187cb3f351b",
   "metadata": {},
   "outputs": [],
   "source": []
  }
 ],
 "metadata": {
  "kernelspec": {
   "display_name": "Python 3 (ipykernel)",
   "language": "python",
   "name": "python3"
  },
  "language_info": {
   "codemirror_mode": {
    "name": "ipython",
    "version": 3
   },
   "file_extension": ".py",
   "mimetype": "text/x-python",
   "name": "python",
   "nbconvert_exporter": "python",
   "pygments_lexer": "ipython3",
   "version": "3.12.1"
  }
 },
 "nbformat": 4,
 "nbformat_minor": 5
}
