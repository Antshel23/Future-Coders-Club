{
  "cells": [
    {
      "cell_type": "markdown",
      "metadata": {
        "id": "vxULeQmiYK9L"
      },
      "source": [
        "## Exploratory Data Analysis (EDA)\n",
        "\n",
        "## Introduction\n",
        "\n",
        "In this lecture, we will explore the importance of Exploratory Data Analysis (EDA) in football analysis and provide an overview of the key concepts and techniques covered.\n",
        "\n",
        "EDA is a crucial step in the data analysis process, allowing us to gain insights, understand patterns, and make informed decisions based on the available data. EDA helps us uncover valuable information about player performance, team strategies, and game dynamics.\n",
        "\n",
        "Throughout this lecture, we will cover the following key concepts and techniques:\n",
        " - Descriptive Statistics\n",
        " - Distributions & Dispersion Metrics\n",
        " - Relational Analysis\n",
        " - Correlation & Covariance\n",
        " - Data Distribution and Patterns\n"
      ]
    },
    {
      "cell_type": "code",
      "execution_count": null,
      "metadata": {
        "colab": {
          "base_uri": "https://localhost:8080/"
        },
        "id": "vdJM6bMiYy8g",
        "outputId": "e7ee640e-e707-4b1c-f3b8-c6dfc5c8f522"
      },
      "outputs": [],
      "source": [
        "pip install statsbombpy"
      ]
    },
    {
      "cell_type": "code",
      "execution_count": null,
      "metadata": {
        "colab": {
          "base_uri": "https://localhost:8080/"
        },
        "id": "ApeuWu2XZD-u",
        "outputId": "58bdf42f-1060-42c8-a970-5cb2252cb5cc"
      },
      "outputs": [],
      "source": [
        "pip install mplsoccer"
      ]
    },
    {
      "cell_type": "code",
      "execution_count": null,
      "metadata": {
        "id": "5nkTLD-xYK9Z"
      },
      "outputs": [],
      "source": [
        "import pandas as pd\n",
        "import numpy as np\n",
        "import matplotlib.pyplot as plt\n",
        "import seaborn as sns\n",
        "from statsbombpy import sb\n",
        "from mplsoccer import Pitch, VerticalPitch\n",
        "from math import pi\n",
        "pd.set_option('display.max_rows', 500)\n",
        "pd.set_option('display.max_columns', 150)\n",
        "pd.options.mode.copy_on_write = True\n",
        "import warnings\n",
        "warnings.filterwarnings('ignore')"
      ]
    },
    {
      "cell_type": "code",
      "execution_count": null,
      "metadata": {
        "colab": {
          "base_uri": "https://localhost:8080/",
          "height": 310
        },
        "id": "yCwype-rYK9e",
        "outputId": "e27f7229-f39a-413b-ca43-8e73bf93a6a7"
      },
      "outputs": [],
      "source": [
        "# Load competition data\n",
        "competitions = sb.competitions()\n",
        "print(\"Available competitions:\")\n",
        "\n",
        "display(competitions.head())"
      ]
    },
    {
      "cell_type": "code",
      "execution_count": null,
      "metadata": {
        "id": "wQbQaYASYK9n"
      },
      "outputs": [],
      "source": []
    },
    {
      "cell_type": "code",
      "execution_count": null,
      "metadata": {
        "colab": {
          "base_uri": "https://localhost:8080/"
        },
        "id": "gqiGGVqMYK9o",
        "outputId": "f41c10a8-1dd9-4298-d386-35961d1d38ab"
      },
      "outputs": [],
      "source": [
        "# Get information about a specific competition\n",
        "competition_id = 43  # 43 represents the FIFA World Cup 2018\n",
        "competition_info = competitions.loc[competition_id]\n",
        "print(f\"\\nInformation about competition {competition_info['competition_name']}:\")\n",
        "print(f\"Country: {competition_info['country_name']}\")\n",
        "print(f\"Gender: {competition_info['competition_gender']}\")\n",
        "print(f\"Season: {competition_info['season_name']}\")"
      ]
    },
    {
      "cell_type": "code",
      "execution_count": null,
      "metadata": {
        "colab": {
          "base_uri": "https://localhost:8080/"
        },
        "id": "cM1umgd8YK9q",
        "outputId": "e83f1189-640f-4fd3-bd8d-df038e653aa4"
      },
      "outputs": [],
      "source": [
        "# Load match data for the selected competition and season\n",
        "season_id = 3  # 3 represents the 2018 season\n",
        "matches = sb.matches(competition_id, season_id)\n",
        "print(f\"\\nNumber of matches in the {competitions.loc[competition_id, 'competition_name']} {season_id}: {len(matches)}\")\n"
      ]
    },
    {
      "cell_type": "code",
      "execution_count": null,
      "metadata": {
        "colab": {
          "base_uri": "https://localhost:8080/"
        },
        "id": "FQdyY4syYK9y",
        "outputId": "e4dfdcba-0eef-4843-e536-e0b362d924c9"
      },
      "outputs": [],
      "source": [
        "# Get information about a specific match\n",
        "match_id = matches.loc[0, 'match_id']  # Select the first match\n",
        "match_info = matches.loc[matches['match_id'] == match_id].iloc[0]\n",
        "print(f\"\\nInformation about match {match_id}:\")\n",
        "print(f\"Home team: {match_info['home_team']}\")\n",
        "print(f\"Away team: {match_info['away_team']}\")\n",
        "print(f\"Match date: {match_info['match_date']}\")\n",
        "print(f\"Stadium: {match_info['stadium']}\")"
      ]
    },
    {
      "cell_type": "code",
      "execution_count": null,
      "metadata": {
        "colab": {
          "base_uri": "https://localhost:8080/"
        },
        "id": "XtyQDOetYK90",
        "outputId": "b1e2d1f6-586e-4fab-d495-842aad1bfb71"
      },
      "outputs": [],
      "source": [
        "# Load event data for the selected match\n",
        "events = sb.events(match_id)\n",
        "print(f\"\\nNumber of events in match {match_id}: {len(events)}\")"
      ]
    },
    {
      "cell_type": "code",
      "execution_count": null,
      "metadata": {
        "id": "dqpll1otYK97"
      },
      "outputs": [],
      "source": [
        "# Assuming `events` contains the loaded event data from a specific match\n",
        "# Filter to include only certain types of events or actions for detailed analysis\n",
        "shots = events[events['type'] == 'Shot']\n",
        "passes = events[events['type'] == 'Pass']\n",
        "\n"
      ]
    },
    {
      "cell_type": "code",
      "execution_count": null,
      "metadata": {
        "colab": {
          "base_uri": "https://localhost:8080/",
          "height": 656
        },
        "id": "s4M0GiYxYK99",
        "outputId": "86a39425-bbca-4952-be72-d0fc352a8b08"
      },
      "outputs": [],
      "source": [
        "# Descriptive statistics for shots\n",
        "print(\"Shots Descriptive Statistics:\")\n",
        "display(shots.describe())\n",
        "\n",
        "# Descriptive statistics for passes\n",
        "print(\"\\nPasses Descriptive Statistics:\")\n",
        "display(passes.describe())\n"
      ]
    },
    {
      "cell_type": "code",
      "execution_count": null,
      "metadata": {
        "colab": {
          "base_uri": "https://localhost:8080/",
          "height": 1000
        },
        "id": "Vz_KdwBeYK9_",
        "outputId": "03d9395e-2173-4518-9200-80341d7c5010"
      },
      "outputs": [],
      "source": [
        "# Shot distances\n",
        "shots['distance'] = shots.apply(lambda x: np.linalg.norm([x['location'][0]-120, x['location'][1]-40]), axis=1)\n",
        "plt.figure(figsize=(10, 6))\n",
        "sns.histplot(shots['distance'], kde=True)\n",
        "plt.title('Distribution of Shot Distances')\n",
        "plt.xlabel('Distance to Goal')\n",
        "plt.ylabel('Frequency')\n",
        "plt.show()\n",
        "\n",
        "# Pass lengths\n",
        "passes['length'] = passes['pass_length']\n",
        "plt.figure(figsize=(10, 6))\n",
        "sns.histplot(passes['length'], kde=True, bins=30)\n",
        "plt.title('Distribution of Pass Lengths')\n",
        "plt.xlabel('Pass Length')\n",
        "plt.ylabel('Frequency')\n",
        "plt.show()\n"
      ]
    },
    {
      "cell_type": "code",
      "execution_count": null,
      "metadata": {
        "colab": {
          "base_uri": "https://localhost:8080/",
          "height": 564
        },
        "id": "mh-aZl-6YK-F",
        "outputId": "765225d1-78fa-4a2d-ff2b-297b8f87571e"
      },
      "outputs": [],
      "source": [
        "\n",
        "# Compare the distributions of shot distances between successful and unsuccessful shots\n",
        "successful_shots = shots[shots['shot_outcome'] == 'Goal']\n",
        "unsuccessful_shots = shots[shots['shot_outcome'] != 'Goal']\n",
        "\n",
        "plt.figure(figsize=(10, 6))\n",
        "plt.hist([successful_shots['distance'], unsuccessful_shots['distance']], bins=20, label=['Successful', 'Unsuccessful'])\n",
        "plt.xlabel('Shot Distance')\n",
        "plt.ylabel('Frequency')\n",
        "plt.title('Distribution of Shot Distances by Outcome')\n",
        "plt.legend()\n",
        "plt.show()"
      ]
    },
    {
      "cell_type": "code",
      "execution_count": null,
      "metadata": {
        "colab": {
          "base_uri": "https://localhost:8080/",
          "height": 640
        },
        "id": "lc-NxR3-YK-K",
        "outputId": "44e36f86-9626-44da-ad68-0e72adf77fcd"
      },
      "outputs": [],
      "source": [
        "# Analyzing shot outcomes\n",
        "print(\"\\nAnalyzing shot outcomes\")\n",
        "shot_outcome_counts = shots['shot_outcome'].value_counts()\n",
        "\n",
        "plt.figure(figsize=(10, 6))\n",
        "plt.bar(shot_outcome_counts.index, shot_outcome_counts.values)\n",
        "plt.xlabel('Shot Outcome')\n",
        "plt.ylabel('Count')\n",
        "plt.title('Shot Outcome Distribution')\n",
        "plt.xticks(rotation=45)\n",
        "plt.show()"
      ]
    },
    {
      "cell_type": "code",
      "execution_count": null,
      "metadata": {
        "colab": {
          "base_uri": "https://localhost:8080/",
          "height": 655
        },
        "id": "5vE7dOKUYK-R",
        "outputId": "9d9d119c-92bc-4cab-b93f-3a0d2052187d"
      },
      "outputs": [],
      "source": [
        "# Analyzing pass outcomes\n",
        "print(\"\\nAnalyzing pass outcomes\")\n",
        "pass_outcome_counts = passes['pass_outcome'].value_counts()\n",
        "\n",
        "plt.figure(figsize=(10, 6))\n",
        "plt.bar(pass_outcome_counts.index, pass_outcome_counts.values)\n",
        "plt.xlabel('Pass Outcome')\n",
        "plt.ylabel('Count')\n",
        "plt.title('Pass Outcome Distribution')\n",
        "plt.xticks(rotation=45)\n",
        "plt.show()"
      ]
    },
    {
      "cell_type": "code",
      "execution_count": null,
      "metadata": {
        "colab": {
          "base_uri": "https://localhost:8080/",
          "height": 593
        },
        "id": "Hssf8SeTYK-Y",
        "outputId": "f9f8ff08-e96b-42e7-f766-b58e5a0b797b"
      },
      "outputs": [],
      "source": [
        "# Create an instance of the pitch\n",
        "pitch = Pitch(pitch_type='statsbomb',\n",
        "              pitch_color='grass', line_color='white')\n",
        "\n",
        "# Plotting heatmaps for shots and passes\n",
        "fig, axs = pitch.draw(nrows=1, ncols=2, figsize=(16, 7))\n",
        "\n",
        "shot_locations = shots[\"location\"].tolist()\n",
        "recovery_passes = passes[passes[\"pass_type\"] == \"Recovery\"][\"location\"].tolist()\n",
        "x,y = zip(*shot_locations)\n",
        "i,j = zip(*recovery_passes)\n",
        "\n",
        "\n",
        "# Shots heatmap\n",
        "sns.kdeplot(x=x, y=y, shade=False, levels=50, color='red', thresh=0.01, ax=axs[0])\n",
        "axs[0].set_title('Shot Heatmap')\n",
        "\n",
        "# Passes heatmap\n",
        "sns.kdeplot(x=i, y=j, shade=False, levels=50, color='blue', thresh=0.01, ax=axs[1])\n",
        "axs[1].set_title('Pass Recovery Heatmap')\n",
        "\n",
        "plt.show()\n"
      ]
    },
    {
      "cell_type": "markdown",
      "metadata": {
        "id": "Z9wh8QFOYK-Z"
      },
      "source": [
        "## Correlation"
      ]
    },
    {
      "cell_type": "code",
      "execution_count": null,
      "metadata": {
        "colab": {
          "base_uri": "https://localhost:8080/",
          "height": 581
        },
        "id": "Rssfmt8wYK-a",
        "outputId": "9ea2be0b-88be-4bfe-eb0c-7edae4721e62"
      },
      "outputs": [],
      "source": [
        "# Investigate the correlation between shot distance and xG\n",
        "plt.figure(figsize=(10, 6))\n",
        "plt.scatter(shots['distance'], shots['shot_statsbomb_xg'])\n",
        "plt.xlabel('Shot Distance')\n",
        "plt.ylabel('xG')\n",
        "plt.title('Correlation between Shot Distance and xG')\n",
        "plt.show()\n",
        "\n",
        "corr_distance_xg = shots['distance'].corr(shots['shot_statsbomb_xg'])\n",
        "print(f\"Correlation between Shot Distance and xG: {corr_distance_xg:.2f}\")"
      ]
    },
    {
      "cell_type": "code",
      "execution_count": null,
      "metadata": {
        "colab": {
          "base_uri": "https://localhost:8080/",
          "height": 699
        },
        "id": "viJzM_u_YK-g",
        "outputId": "53feb05b-0c44-4455-8aa3-d2aa7814459f"
      },
      "outputs": [],
      "source": [
        "# Create binary indicators for specific pass types and success\n",
        "passes['is_cross'] = passes['pass_cross'].notnull().astype(int)\n",
        "passes['is_switch'] = passes['pass_switch'].notnull().astype(int)\n",
        "passes['pass_success'] = pd.isna(passes['pass_outcome']).astype(int)\n",
        "\n",
        "# Prepare a DataFrame for correlation analysis including the relevant columns\n",
        "correlation_df = passes[['pass_length', 'pass_angle', 'is_cross', 'is_switch', 'pass_success']]\n",
        "\n",
        "# Calculating the correlation matrix\n",
        "correlation_matrix = correlation_df.corr()\n",
        "\n",
        "# Visualizing the correlation matrix\n",
        "plt.figure(figsize=(10, 8))\n",
        "sns.heatmap(correlation_matrix, annot=True, cmap='coolwarm', linewidths=.5)\n",
        "plt.title('Correlation Heatmap of Pass Metrics')\n",
        "plt.show()\n"
      ]
    },
    {
      "cell_type": "code",
      "execution_count": null,
      "metadata": {
        "colab": {
          "base_uri": "https://localhost:8080/",
          "height": 829
        },
        "id": "45bUkIEYYK-h",
        "outputId": "40ad0399-c150-48b6-a602-90c6e60d9e94"
      },
      "outputs": [],
      "source": [
        "import pandas as pd\n",
        "import matplotlib.pyplot as plt\n",
        "import seaborn as sns\n",
        "\n",
        "\n",
        "# Convert 'shot_outcome' into a binary indicator (1 for Goal, 0 for others)\n",
        "shots['is_goal'] = (shots['shot_outcome'] == 'Goal').astype(int)\n",
        "\n",
        "# Convert 'shot_technique' and 'shot_body_part' into binary indicators for simplicity\n",
        "shots['technique_normal'] = (shots['shot_technique'] == 'Normal').astype(int)\n",
        "shots['body_part_right_foot'] = (shots['shot_body_part'] == 'Right Foot').astype(int)\n",
        "\n",
        "# Select columns to include in the correlation analysis\n",
        "columns_to_include = ['distance', 'shot_statsbomb_xg', 'is_goal', 'technique_normal', 'body_part_right_foot']\n",
        "\n",
        "# Drop any rows with NaN values in these columns to ensure clean correlation analysis\n",
        "clean_shots = shots[columns_to_include].dropna()\n",
        "\n",
        "\n",
        "# Calculate the correlation matrix\n",
        "correlation_matrix = clean_shots.corr()\n",
        "\n",
        "# Visualize the correlation matrix\n",
        "plt.figure(figsize=(10, 8))\n",
        "sns.heatmap(correlation_matrix, annot=True, cmap='coolwarm', linewidths=.5)\n",
        "plt.title('Correlation Heatmap of Shot Metrics')\n",
        "plt.show()\n"
      ]
    },
    {
      "cell_type": "code",
      "execution_count": null,
      "metadata": {
        "colab": {
          "base_uri": "https://localhost:8080/",
          "height": 942
        },
        "id": "SUkeYUgCYK-i",
        "outputId": "165a3e9c-d7e6-486c-b4f7-bad24468d369"
      },
      "outputs": [],
      "source": [
        "# Analyzing player performance\n",
        "print(\"\\nAnalyzing player performance\")\n",
        "player_shots = shots.groupby('player').size().reset_index(name='total_shots')\n",
        "player_goals = shots[shots['shot_outcome'] == 'Goal'].groupby('player').size().reset_index(name='total_goals')\n",
        "player_performance = pd.merge(player_shots, player_goals, on='player')\n",
        "player_performance['goal_conversion_rate'] = player_performance['total_goals'] / player_performance['total_shots']\n",
        "\n",
        "print(\"Player performance:\")\n",
        "display(player_performance.sort_values('total_shots', ascending=False).head(10))\n",
        "\n",
        "# Plotting top players by shots and goals\n",
        "plt.figure(figsize=(12, 6))\n",
        "plt.subplot(1, 2, 1)\n",
        "plt.bar(player_performance['player'], player_performance['total_shots'])\n",
        "plt.xlabel('Player')\n",
        "plt.ylabel('Total Shots')\n",
        "plt.title('Top Players by Total Shots')\n",
        "plt.xticks(rotation=45)\n",
        "\n",
        "plt.subplot(1, 2, 2)\n",
        "plt.bar(player_performance['player'], player_performance['total_goals'])\n",
        "plt.xlabel('Player')\n",
        "plt.ylabel('Total Goals')\n",
        "plt.title('Top Players by Total Goals')\n",
        "plt.xticks(rotation=45)\n",
        "\n",
        "plt.tight_layout()\n",
        "plt.show()"
      ]
    },
    {
      "cell_type": "markdown",
      "metadata": {
        "id": "Pb5Qt4YSYK-n"
      },
      "source": [
        "## Radar Plots"
      ]
    },
    {
      "cell_type": "code",
      "execution_count": null,
      "metadata": {
        "colab": {
          "base_uri": "https://localhost:8080/",
          "height": 457
        },
        "id": "7cHdLEtUYK-o",
        "outputId": "7ea31b68-b6ca-499e-ce14-3749137e4dac"
      },
      "outputs": [],
      "source": [
        "\n",
        "def plot_radar_chart(data, attributes, title=\"Player Attributes\"):\n",
        "    N = len(attributes)\n",
        "    values = data\n",
        "    values += values[:1]  # repeat the first value to close the circle\n",
        "    angles = [n / float(N) * 2 * pi for n in range(N)]\n",
        "    angles += angles[:1]\n",
        "\n",
        "    ax = plt.subplot(111, polar=True)\n",
        "    plt.xticks(angles[:-1], attributes, color='grey', size=8)\n",
        "    ax.plot(angles, values, linewidth=1, linestyle='solid', label=\"Attributes\")\n",
        "    ax.fill(angles, values, 'b', alpha=0.1)\n",
        "    plt.title(title)\n",
        "    plt.show()\n",
        "\n",
        "\n",
        "player_attributes = [60, 40, 70, 80, 50]  # example metrics like speed, accuracy, stamina, etc.\n",
        "attributes = ['Speed', 'Accuracy', 'Stamina', 'Agility', 'Strength']\n",
        "plot_radar_chart(player_attributes, attributes)\n"
      ]
    },
    {
      "cell_type": "code",
      "execution_count": null,
      "metadata": {
        "colab": {
          "base_uri": "https://localhost:8080/"
        },
        "id": "I1h4VvuRYK-u",
        "outputId": "7a300c73-dceb-4cc3-dfc3-887096332d6e"
      },
      "outputs": [],
      "source": [
        "# Filter events for Harry Maguire\n",
        "player_events = events[events['player'] == 'Harry Maguire']\n",
        "\n",
        "# Calculate Pass Accuracy\n",
        "total_passes = player_events[player_events['type'] == 'Pass']\n",
        "completed_passes = total_passes[total_passes['pass_outcome'].isna()]\n",
        "pass_accuracy = len(completed_passes) / len(total_passes) if len(total_passes) > 0 else 0\n",
        "\n",
        "# Shots\n",
        "shots_taken = player_events[player_events['type'] == 'Shot']\n",
        "shots_on_target = shots_taken[shots_taken['shot_outcome'].isin(['Goal', 'Saved', 'Off T'])]\n",
        "shot_accuracy = len(shots_on_target) / len(shots_taken) if len(shots_taken) > 0 else 0\n",
        "\n",
        "# Print results\n",
        "print(f\"Pass Accuracy: {pass_accuracy*100:.2f}%\")\n",
        "print(f\"Shots Taken: {len(shots_taken)}\")\n",
        "print(f\"Shot Accuracy: {shot_accuracy*100:.2f}%\")\n"
      ]
    },
    {
      "cell_type": "code",
      "execution_count": null,
      "metadata": {
        "colab": {
          "base_uri": "https://localhost:8080/",
          "height": 428
        },
        "id": "4G7fr8TLYK-w",
        "outputId": "aca64b88-007d-4e9d-fa57-9997a3514e9c"
      },
      "outputs": [],
      "source": [
        "# Define attributes and data for radar chart\n",
        "attributes = ['Pass Accuracy', 'Shots Taken', 'Shot Accuracy']\n",
        "data = [pass_accuracy*100, len(shots_taken), shot_accuracy*100]\n",
        "\n",
        "# Plot the radar chart\n",
        "plot_radar_chart(data, attributes)\n"
      ]
    },
    {
      "cell_type": "markdown",
      "metadata": {
        "id": "uOkS6AMIYK-x"
      },
      "source": [
        "## xG Flow charts"
      ]
    },
    {
      "cell_type": "code",
      "execution_count": null,
      "metadata": {
        "colab": {
          "base_uri": "https://localhost:8080/",
          "height": 363
        },
        "id": "RRuaCnDpYK-y",
        "outputId": "8641afc3-a2a7-4bc3-bb43-e43ed4db8f7e"
      },
      "outputs": [],
      "source": [
        "events = sb.events (match_id = 18236)\n",
        "df = events[events.type == 'Shot']\n",
        "df = df[['period', 'minute', 'shot_statsbomb_xg', 'team', 'player', 'shot_outcome' ]]\n",
        "df.rename(columns = {'shot_statsbomb_xg':'xG', 'shot_outcome':'result'}, inplace = True)\n",
        "df.sort_values(by='team', inplace=True)\n",
        "df.head(10)"
      ]
    },
    {
      "cell_type": "code",
      "execution_count": null,
      "metadata": {
        "colab": {
          "base_uri": "https://localhost:8080/"
        },
        "id": "xjpSlLa_YK-3",
        "outputId": "a3f79eca-ce01-4e34-9dad-c322ca9a3eeb"
      },
      "outputs": [],
      "source": [
        "home_team = df[\"team\"].iloc[0]\n",
        "away_team = df[\"team\"].iloc[-1]\n",
        "print('Home Team : ' + home_team)\n",
        "print('Away Team : ' + away_team)"
      ]
    },
    {
      "cell_type": "code",
      "execution_count": null,
      "metadata": {
        "id": "zsKFBwa2YK-4"
      },
      "outputs": [],
      "source": [
        "df_home = df.loc[df[\"team\"] == home_team].sort_values(by=\"minute\")\n",
        "df_away = df.loc[df[\"team\"] == away_team].sort_values(by=\"minute\")\n",
        "df_home[\"h_cum\"] = df_home[\"xG\"].cumsum()\n",
        "df_away[\"h_cum\"] = df_away[\"xG\"].cumsum()"
      ]
    },
    {
      "cell_type": "code",
      "execution_count": null,
      "metadata": {
        "colab": {
          "base_uri": "https://localhost:8080/",
          "height": 607
        },
        "id": "TiI9bO4EYK-5",
        "outputId": "8f8566e8-3e77-4178-fef8-1296407d464b"
      },
      "outputs": [],
      "source": [
        "# Create the plot\n",
        "fig, ax = plt.subplots(figsize=(10, 6))\n",
        "\n",
        "# Plot the xG flow for each team\n",
        "ax.plot(df_home['minute'], df_home['h_cum'], marker='o', linestyle='-', linewidth=2, markersize=8, label=home_team, color='blue')\n",
        "ax.plot(df_away['minute'], df_away['h_cum'], marker='o', linestyle='-', linewidth=2, markersize=8, label=away_team, color='red')\n",
        "\n",
        "# Set the x-axis and y-axis labels and title\n",
        "ax.set_xlabel('Minute')\n",
        "ax.set_ylabel('Cumulative xG')\n",
        "ax.set_title(f'xG Flow Chart - {home_team} vs {away_team}')\n",
        "\n",
        "# Set the y-axis range\n",
        "ax.set_ylim(0, max(df_home['h_cum'].max(), df_away['h_cum'].max()) + 0.1)\n",
        "\n",
        "# Add a grid\n",
        "ax.grid(True, linestyle='--', alpha=0.7)\n",
        "\n",
        "# Add goal annotations\n",
        "for idx, row in df_home[df_home['result'] == 'Goal'].iterrows():\n",
        "    ax.annotate(f\"{row['player']} ({row['minute']}')\", xy=(row['minute'], row['h_cum']), xytext=(0, 10), textcoords='offset points', ha='center', va='bottom')\n",
        "\n",
        "for idx, row in df_away[df_away['result'] == 'Goal'].iterrows():\n",
        "    ax.annotate(f\"{row['player']} ({row['minute']}')\", xy=(row['minute'], row['h_cum']), xytext=(0, -10), textcoords='offset points', ha='center', va='top')\n",
        "\n",
        "# Add a legend in the upper right corner\n",
        "ax.legend(loc='upper right')\n",
        "\n",
        "# Display the total xG for each team in the upper left corner\n",
        "home_total_xg = round(df_home['xG'].sum(), 2)\n",
        "away_total_xg = round(df_away['xG'].sum(), 2)\n",
        "ax.text(0.05, 0.95, f\"{home_team} Total xG: {home_total_xg}\", transform=ax.transAxes, fontsize=12, verticalalignment='top')\n",
        "ax.text(0.05, 0.90, f\"{away_team} Total xG: {away_total_xg}\", transform=ax.transAxes, fontsize=12, verticalalignment='top')\n",
        "\n",
        "# Adjust the plot layout and display\n",
        "plt.tight_layout()\n",
        "plt.show()"
      ]
    },
    {
      "cell_type": "markdown",
      "metadata": {
        "id": "u20LK4W6YK-9"
      },
      "source": [
        "# Homework Assignment: xG Flow Chart Function\n",
        "\n",
        "Instructions:\n",
        "\n",
        "1. Take the code provided for creating the xG Flow Chart and convert it into a reusable function called `plot_xg_flow_chart`.\n",
        "   The function should accept the following parameters:\n",
        "   - `df_home`: DataFrame containing the home team's shot data\n",
        "   - `df_away`: DataFrame containing the away team's shot data\n",
        "   - `home_team`: Name of the home team (string)\n",
        "   - `away_team`: Name of the away team (string)\n",
        "\n",
        "2. The function should create and display the xG Flow Chart based on the provided data and team names.\n",
        "\n",
        "3. Test your function by applying it to different matches. You can use the `events` function from the StatsBomb library\n",
        "   to retrieve shot data for various matches and pass the relevant data to your `plot_xg_flow_chart` function.\n",
        "\n",
        "4. Experiment with different customization options to further enhance the appearance and readability of the chart.\n",
        "   Consider adding team logos, adjusting colors based on team preferences, or highlighting specific events or periods of interest.\n",
        "\n",
        "5. Document your function by adding a docstring that explains its purpose, parameters, and any additional information\n",
        "   that would be helpful for users.\n",
        "\n",
        "\n",
        "Note: Make sure to handle any necessary data preprocessing steps within your function to ensure it works smoothly with the\n",
        "provided data. Also, function parameters were a suggestion - feel free to improvize!\n",
        "\n",
        "Happy coding, and let me know if you have any questions!\n",
        "# Your code here"
      ]
    },
    {
      "cell_type": "code",
      "execution_count": null,
      "metadata": {
        "id": "B7i_yCfGYK_C"
      },
      "outputs": [],
      "source": []
    },
    {
      "cell_type": "code",
      "execution_count": null,
      "metadata": {
        "id": "o9TodmWwYK_D"
      },
      "outputs": [],
      "source": []
    },
    {
      "cell_type": "code",
      "execution_count": null,
      "metadata": {
        "id": "khH_hNpzYK_H"
      },
      "outputs": [],
      "source": []
    },
    {
      "cell_type": "code",
      "execution_count": null,
      "metadata": {
        "id": "gYzkVP_2YK_H"
      },
      "outputs": [],
      "source": []
    },
    {
      "cell_type": "code",
      "execution_count": null,
      "metadata": {
        "id": "8a-9q3JeYK_H"
      },
      "outputs": [],
      "source": []
    },
    {
      "cell_type": "code",
      "execution_count": null,
      "metadata": {
        "id": "DF2Pa-6vYK_H"
      },
      "outputs": [],
      "source": []
    }
  ],
  "metadata": {
    "colab": {
      "provenance": []
    },
    "kernelspec": {
      "display_name": "ai",
      "language": "python",
      "name": "python3"
    },
    "language_info": {
      "codemirror_mode": {
        "name": "ipython",
        "version": 3
      },
      "file_extension": ".py",
      "mimetype": "text/x-python",
      "name": "python",
      "nbconvert_exporter": "python",
      "pygments_lexer": "ipython3",
      "version": "3.10.13"
    }
  },
  "nbformat": 4,
  "nbformat_minor": 0
}
